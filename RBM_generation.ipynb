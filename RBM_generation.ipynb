{
  "nbformat": 4,
  "nbformat_minor": 0,
  "metadata": {
    "colab": {
      "name": "RBM_generation (3).ipynb",
      "provenance": [],
      "collapsed_sections": []
    },
    "kernelspec": {
      "name": "python3",
      "display_name": "Python 3"
    },
    "language_info": {
      "name": "python"
    },
    "accelerator": "GPU",
    "widgets": {
      "application/vnd.jupyter.widget-state+json": {
        "7cd0bb5a5e204d4c9a63ffae9330fab4": {
          "model_module": "@jupyter-widgets/controls",
          "model_name": "HBoxModel",
          "model_module_version": "1.5.0",
          "state": {
            "_dom_classes": [],
            "_model_module": "@jupyter-widgets/controls",
            "_model_module_version": "1.5.0",
            "_model_name": "HBoxModel",
            "_view_count": null,
            "_view_module": "@jupyter-widgets/controls",
            "_view_module_version": "1.5.0",
            "_view_name": "HBoxView",
            "box_style": "",
            "children": [
              "IPY_MODEL_8d27aee2af1b4b7c822494043cc543a2",
              "IPY_MODEL_2c4f1ad0f5bd40c88a0dc8a32e36ae9b",
              "IPY_MODEL_b18679ab75e7438db634e62727de5821"
            ],
            "layout": "IPY_MODEL_c2544402906146c98c6eb35bd8218e7c"
          }
        },
        "8d27aee2af1b4b7c822494043cc543a2": {
          "model_module": "@jupyter-widgets/controls",
          "model_name": "HTMLModel",
          "model_module_version": "1.5.0",
          "state": {
            "_dom_classes": [],
            "_model_module": "@jupyter-widgets/controls",
            "_model_module_version": "1.5.0",
            "_model_name": "HTMLModel",
            "_view_count": null,
            "_view_module": "@jupyter-widgets/controls",
            "_view_module_version": "1.5.0",
            "_view_name": "HTMLView",
            "description": "",
            "description_tooltip": null,
            "layout": "IPY_MODEL_cd641ed7bb7d4362b840092b9ea227d1",
            "placeholder": "​",
            "style": "IPY_MODEL_ec55139d47504830887d4b5fe00c0465",
            "value": ""
          }
        },
        "2c4f1ad0f5bd40c88a0dc8a32e36ae9b": {
          "model_module": "@jupyter-widgets/controls",
          "model_name": "FloatProgressModel",
          "model_module_version": "1.5.0",
          "state": {
            "_dom_classes": [],
            "_model_module": "@jupyter-widgets/controls",
            "_model_module_version": "1.5.0",
            "_model_name": "FloatProgressModel",
            "_view_count": null,
            "_view_module": "@jupyter-widgets/controls",
            "_view_module_version": "1.5.0",
            "_view_name": "ProgressView",
            "bar_style": "success",
            "description": "",
            "description_tooltip": null,
            "layout": "IPY_MODEL_69ed9bc166894eff8f818f8492e2e655",
            "max": 9912422,
            "min": 0,
            "orientation": "horizontal",
            "style": "IPY_MODEL_5157f5e70a9b41028fba172aa9db8ae8",
            "value": 9912422
          }
        },
        "b18679ab75e7438db634e62727de5821": {
          "model_module": "@jupyter-widgets/controls",
          "model_name": "HTMLModel",
          "model_module_version": "1.5.0",
          "state": {
            "_dom_classes": [],
            "_model_module": "@jupyter-widgets/controls",
            "_model_module_version": "1.5.0",
            "_model_name": "HTMLModel",
            "_view_count": null,
            "_view_module": "@jupyter-widgets/controls",
            "_view_module_version": "1.5.0",
            "_view_name": "HTMLView",
            "description": "",
            "description_tooltip": null,
            "layout": "IPY_MODEL_82f76acc34fc4cbdb49ec9aa0b506bb8",
            "placeholder": "​",
            "style": "IPY_MODEL_6a56890d9fa1433584bdec37353238fd",
            "value": " 9913344/? [00:00&lt;00:00, 20674185.39it/s]"
          }
        },
        "c2544402906146c98c6eb35bd8218e7c": {
          "model_module": "@jupyter-widgets/base",
          "model_name": "LayoutModel",
          "model_module_version": "1.2.0",
          "state": {
            "_model_module": "@jupyter-widgets/base",
            "_model_module_version": "1.2.0",
            "_model_name": "LayoutModel",
            "_view_count": null,
            "_view_module": "@jupyter-widgets/base",
            "_view_module_version": "1.2.0",
            "_view_name": "LayoutView",
            "align_content": null,
            "align_items": null,
            "align_self": null,
            "border": null,
            "bottom": null,
            "display": null,
            "flex": null,
            "flex_flow": null,
            "grid_area": null,
            "grid_auto_columns": null,
            "grid_auto_flow": null,
            "grid_auto_rows": null,
            "grid_column": null,
            "grid_gap": null,
            "grid_row": null,
            "grid_template_areas": null,
            "grid_template_columns": null,
            "grid_template_rows": null,
            "height": null,
            "justify_content": null,
            "justify_items": null,
            "left": null,
            "margin": null,
            "max_height": null,
            "max_width": null,
            "min_height": null,
            "min_width": null,
            "object_fit": null,
            "object_position": null,
            "order": null,
            "overflow": null,
            "overflow_x": null,
            "overflow_y": null,
            "padding": null,
            "right": null,
            "top": null,
            "visibility": null,
            "width": null
          }
        },
        "cd641ed7bb7d4362b840092b9ea227d1": {
          "model_module": "@jupyter-widgets/base",
          "model_name": "LayoutModel",
          "model_module_version": "1.2.0",
          "state": {
            "_model_module": "@jupyter-widgets/base",
            "_model_module_version": "1.2.0",
            "_model_name": "LayoutModel",
            "_view_count": null,
            "_view_module": "@jupyter-widgets/base",
            "_view_module_version": "1.2.0",
            "_view_name": "LayoutView",
            "align_content": null,
            "align_items": null,
            "align_self": null,
            "border": null,
            "bottom": null,
            "display": null,
            "flex": null,
            "flex_flow": null,
            "grid_area": null,
            "grid_auto_columns": null,
            "grid_auto_flow": null,
            "grid_auto_rows": null,
            "grid_column": null,
            "grid_gap": null,
            "grid_row": null,
            "grid_template_areas": null,
            "grid_template_columns": null,
            "grid_template_rows": null,
            "height": null,
            "justify_content": null,
            "justify_items": null,
            "left": null,
            "margin": null,
            "max_height": null,
            "max_width": null,
            "min_height": null,
            "min_width": null,
            "object_fit": null,
            "object_position": null,
            "order": null,
            "overflow": null,
            "overflow_x": null,
            "overflow_y": null,
            "padding": null,
            "right": null,
            "top": null,
            "visibility": null,
            "width": null
          }
        },
        "ec55139d47504830887d4b5fe00c0465": {
          "model_module": "@jupyter-widgets/controls",
          "model_name": "DescriptionStyleModel",
          "model_module_version": "1.5.0",
          "state": {
            "_model_module": "@jupyter-widgets/controls",
            "_model_module_version": "1.5.0",
            "_model_name": "DescriptionStyleModel",
            "_view_count": null,
            "_view_module": "@jupyter-widgets/base",
            "_view_module_version": "1.2.0",
            "_view_name": "StyleView",
            "description_width": ""
          }
        },
        "69ed9bc166894eff8f818f8492e2e655": {
          "model_module": "@jupyter-widgets/base",
          "model_name": "LayoutModel",
          "model_module_version": "1.2.0",
          "state": {
            "_model_module": "@jupyter-widgets/base",
            "_model_module_version": "1.2.0",
            "_model_name": "LayoutModel",
            "_view_count": null,
            "_view_module": "@jupyter-widgets/base",
            "_view_module_version": "1.2.0",
            "_view_name": "LayoutView",
            "align_content": null,
            "align_items": null,
            "align_self": null,
            "border": null,
            "bottom": null,
            "display": null,
            "flex": null,
            "flex_flow": null,
            "grid_area": null,
            "grid_auto_columns": null,
            "grid_auto_flow": null,
            "grid_auto_rows": null,
            "grid_column": null,
            "grid_gap": null,
            "grid_row": null,
            "grid_template_areas": null,
            "grid_template_columns": null,
            "grid_template_rows": null,
            "height": null,
            "justify_content": null,
            "justify_items": null,
            "left": null,
            "margin": null,
            "max_height": null,
            "max_width": null,
            "min_height": null,
            "min_width": null,
            "object_fit": null,
            "object_position": null,
            "order": null,
            "overflow": null,
            "overflow_x": null,
            "overflow_y": null,
            "padding": null,
            "right": null,
            "top": null,
            "visibility": null,
            "width": null
          }
        },
        "5157f5e70a9b41028fba172aa9db8ae8": {
          "model_module": "@jupyter-widgets/controls",
          "model_name": "ProgressStyleModel",
          "model_module_version": "1.5.0",
          "state": {
            "_model_module": "@jupyter-widgets/controls",
            "_model_module_version": "1.5.0",
            "_model_name": "ProgressStyleModel",
            "_view_count": null,
            "_view_module": "@jupyter-widgets/base",
            "_view_module_version": "1.2.0",
            "_view_name": "StyleView",
            "bar_color": null,
            "description_width": ""
          }
        },
        "82f76acc34fc4cbdb49ec9aa0b506bb8": {
          "model_module": "@jupyter-widgets/base",
          "model_name": "LayoutModel",
          "model_module_version": "1.2.0",
          "state": {
            "_model_module": "@jupyter-widgets/base",
            "_model_module_version": "1.2.0",
            "_model_name": "LayoutModel",
            "_view_count": null,
            "_view_module": "@jupyter-widgets/base",
            "_view_module_version": "1.2.0",
            "_view_name": "LayoutView",
            "align_content": null,
            "align_items": null,
            "align_self": null,
            "border": null,
            "bottom": null,
            "display": null,
            "flex": null,
            "flex_flow": null,
            "grid_area": null,
            "grid_auto_columns": null,
            "grid_auto_flow": null,
            "grid_auto_rows": null,
            "grid_column": null,
            "grid_gap": null,
            "grid_row": null,
            "grid_template_areas": null,
            "grid_template_columns": null,
            "grid_template_rows": null,
            "height": null,
            "justify_content": null,
            "justify_items": null,
            "left": null,
            "margin": null,
            "max_height": null,
            "max_width": null,
            "min_height": null,
            "min_width": null,
            "object_fit": null,
            "object_position": null,
            "order": null,
            "overflow": null,
            "overflow_x": null,
            "overflow_y": null,
            "padding": null,
            "right": null,
            "top": null,
            "visibility": null,
            "width": null
          }
        },
        "6a56890d9fa1433584bdec37353238fd": {
          "model_module": "@jupyter-widgets/controls",
          "model_name": "DescriptionStyleModel",
          "model_module_version": "1.5.0",
          "state": {
            "_model_module": "@jupyter-widgets/controls",
            "_model_module_version": "1.5.0",
            "_model_name": "DescriptionStyleModel",
            "_view_count": null,
            "_view_module": "@jupyter-widgets/base",
            "_view_module_version": "1.2.0",
            "_view_name": "StyleView",
            "description_width": ""
          }
        },
        "628a3b51b6a140ed9fae891cf9a79ffa": {
          "model_module": "@jupyter-widgets/controls",
          "model_name": "HBoxModel",
          "model_module_version": "1.5.0",
          "state": {
            "_dom_classes": [],
            "_model_module": "@jupyter-widgets/controls",
            "_model_module_version": "1.5.0",
            "_model_name": "HBoxModel",
            "_view_count": null,
            "_view_module": "@jupyter-widgets/controls",
            "_view_module_version": "1.5.0",
            "_view_name": "HBoxView",
            "box_style": "",
            "children": [
              "IPY_MODEL_233d1743412541aabbda46ef488a7efb",
              "IPY_MODEL_99aeddefb85c456ab832eb07a3aca4da",
              "IPY_MODEL_a7f6fb2eb4e944ae8ad97b874567a534"
            ],
            "layout": "IPY_MODEL_cf8d8b938c4948138a413c667b66b255"
          }
        },
        "233d1743412541aabbda46ef488a7efb": {
          "model_module": "@jupyter-widgets/controls",
          "model_name": "HTMLModel",
          "model_module_version": "1.5.0",
          "state": {
            "_dom_classes": [],
            "_model_module": "@jupyter-widgets/controls",
            "_model_module_version": "1.5.0",
            "_model_name": "HTMLModel",
            "_view_count": null,
            "_view_module": "@jupyter-widgets/controls",
            "_view_module_version": "1.5.0",
            "_view_name": "HTMLView",
            "description": "",
            "description_tooltip": null,
            "layout": "IPY_MODEL_5bf4cdbc46f44901a81c2a1f0c70167e",
            "placeholder": "​",
            "style": "IPY_MODEL_21b34aefd046485fbf0116292eb57ba7",
            "value": ""
          }
        },
        "99aeddefb85c456ab832eb07a3aca4da": {
          "model_module": "@jupyter-widgets/controls",
          "model_name": "FloatProgressModel",
          "model_module_version": "1.5.0",
          "state": {
            "_dom_classes": [],
            "_model_module": "@jupyter-widgets/controls",
            "_model_module_version": "1.5.0",
            "_model_name": "FloatProgressModel",
            "_view_count": null,
            "_view_module": "@jupyter-widgets/controls",
            "_view_module_version": "1.5.0",
            "_view_name": "ProgressView",
            "bar_style": "success",
            "description": "",
            "description_tooltip": null,
            "layout": "IPY_MODEL_fa854270553045368eb186f1bce6b2e9",
            "max": 28881,
            "min": 0,
            "orientation": "horizontal",
            "style": "IPY_MODEL_9a4310d2699b453eb4281091729b3179",
            "value": 28881
          }
        },
        "a7f6fb2eb4e944ae8ad97b874567a534": {
          "model_module": "@jupyter-widgets/controls",
          "model_name": "HTMLModel",
          "model_module_version": "1.5.0",
          "state": {
            "_dom_classes": [],
            "_model_module": "@jupyter-widgets/controls",
            "_model_module_version": "1.5.0",
            "_model_name": "HTMLModel",
            "_view_count": null,
            "_view_module": "@jupyter-widgets/controls",
            "_view_module_version": "1.5.0",
            "_view_name": "HTMLView",
            "description": "",
            "description_tooltip": null,
            "layout": "IPY_MODEL_cff9655602cf4479a3228865f037eed4",
            "placeholder": "​",
            "style": "IPY_MODEL_d7269ac54c1a4feebd78e568c9797544",
            "value": " 29696/? [00:00&lt;00:00, 652057.42it/s]"
          }
        },
        "cf8d8b938c4948138a413c667b66b255": {
          "model_module": "@jupyter-widgets/base",
          "model_name": "LayoutModel",
          "model_module_version": "1.2.0",
          "state": {
            "_model_module": "@jupyter-widgets/base",
            "_model_module_version": "1.2.0",
            "_model_name": "LayoutModel",
            "_view_count": null,
            "_view_module": "@jupyter-widgets/base",
            "_view_module_version": "1.2.0",
            "_view_name": "LayoutView",
            "align_content": null,
            "align_items": null,
            "align_self": null,
            "border": null,
            "bottom": null,
            "display": null,
            "flex": null,
            "flex_flow": null,
            "grid_area": null,
            "grid_auto_columns": null,
            "grid_auto_flow": null,
            "grid_auto_rows": null,
            "grid_column": null,
            "grid_gap": null,
            "grid_row": null,
            "grid_template_areas": null,
            "grid_template_columns": null,
            "grid_template_rows": null,
            "height": null,
            "justify_content": null,
            "justify_items": null,
            "left": null,
            "margin": null,
            "max_height": null,
            "max_width": null,
            "min_height": null,
            "min_width": null,
            "object_fit": null,
            "object_position": null,
            "order": null,
            "overflow": null,
            "overflow_x": null,
            "overflow_y": null,
            "padding": null,
            "right": null,
            "top": null,
            "visibility": null,
            "width": null
          }
        },
        "5bf4cdbc46f44901a81c2a1f0c70167e": {
          "model_module": "@jupyter-widgets/base",
          "model_name": "LayoutModel",
          "model_module_version": "1.2.0",
          "state": {
            "_model_module": "@jupyter-widgets/base",
            "_model_module_version": "1.2.0",
            "_model_name": "LayoutModel",
            "_view_count": null,
            "_view_module": "@jupyter-widgets/base",
            "_view_module_version": "1.2.0",
            "_view_name": "LayoutView",
            "align_content": null,
            "align_items": null,
            "align_self": null,
            "border": null,
            "bottom": null,
            "display": null,
            "flex": null,
            "flex_flow": null,
            "grid_area": null,
            "grid_auto_columns": null,
            "grid_auto_flow": null,
            "grid_auto_rows": null,
            "grid_column": null,
            "grid_gap": null,
            "grid_row": null,
            "grid_template_areas": null,
            "grid_template_columns": null,
            "grid_template_rows": null,
            "height": null,
            "justify_content": null,
            "justify_items": null,
            "left": null,
            "margin": null,
            "max_height": null,
            "max_width": null,
            "min_height": null,
            "min_width": null,
            "object_fit": null,
            "object_position": null,
            "order": null,
            "overflow": null,
            "overflow_x": null,
            "overflow_y": null,
            "padding": null,
            "right": null,
            "top": null,
            "visibility": null,
            "width": null
          }
        },
        "21b34aefd046485fbf0116292eb57ba7": {
          "model_module": "@jupyter-widgets/controls",
          "model_name": "DescriptionStyleModel",
          "model_module_version": "1.5.0",
          "state": {
            "_model_module": "@jupyter-widgets/controls",
            "_model_module_version": "1.5.0",
            "_model_name": "DescriptionStyleModel",
            "_view_count": null,
            "_view_module": "@jupyter-widgets/base",
            "_view_module_version": "1.2.0",
            "_view_name": "StyleView",
            "description_width": ""
          }
        },
        "fa854270553045368eb186f1bce6b2e9": {
          "model_module": "@jupyter-widgets/base",
          "model_name": "LayoutModel",
          "model_module_version": "1.2.0",
          "state": {
            "_model_module": "@jupyter-widgets/base",
            "_model_module_version": "1.2.0",
            "_model_name": "LayoutModel",
            "_view_count": null,
            "_view_module": "@jupyter-widgets/base",
            "_view_module_version": "1.2.0",
            "_view_name": "LayoutView",
            "align_content": null,
            "align_items": null,
            "align_self": null,
            "border": null,
            "bottom": null,
            "display": null,
            "flex": null,
            "flex_flow": null,
            "grid_area": null,
            "grid_auto_columns": null,
            "grid_auto_flow": null,
            "grid_auto_rows": null,
            "grid_column": null,
            "grid_gap": null,
            "grid_row": null,
            "grid_template_areas": null,
            "grid_template_columns": null,
            "grid_template_rows": null,
            "height": null,
            "justify_content": null,
            "justify_items": null,
            "left": null,
            "margin": null,
            "max_height": null,
            "max_width": null,
            "min_height": null,
            "min_width": null,
            "object_fit": null,
            "object_position": null,
            "order": null,
            "overflow": null,
            "overflow_x": null,
            "overflow_y": null,
            "padding": null,
            "right": null,
            "top": null,
            "visibility": null,
            "width": null
          }
        },
        "9a4310d2699b453eb4281091729b3179": {
          "model_module": "@jupyter-widgets/controls",
          "model_name": "ProgressStyleModel",
          "model_module_version": "1.5.0",
          "state": {
            "_model_module": "@jupyter-widgets/controls",
            "_model_module_version": "1.5.0",
            "_model_name": "ProgressStyleModel",
            "_view_count": null,
            "_view_module": "@jupyter-widgets/base",
            "_view_module_version": "1.2.0",
            "_view_name": "StyleView",
            "bar_color": null,
            "description_width": ""
          }
        },
        "cff9655602cf4479a3228865f037eed4": {
          "model_module": "@jupyter-widgets/base",
          "model_name": "LayoutModel",
          "model_module_version": "1.2.0",
          "state": {
            "_model_module": "@jupyter-widgets/base",
            "_model_module_version": "1.2.0",
            "_model_name": "LayoutModel",
            "_view_count": null,
            "_view_module": "@jupyter-widgets/base",
            "_view_module_version": "1.2.0",
            "_view_name": "LayoutView",
            "align_content": null,
            "align_items": null,
            "align_self": null,
            "border": null,
            "bottom": null,
            "display": null,
            "flex": null,
            "flex_flow": null,
            "grid_area": null,
            "grid_auto_columns": null,
            "grid_auto_flow": null,
            "grid_auto_rows": null,
            "grid_column": null,
            "grid_gap": null,
            "grid_row": null,
            "grid_template_areas": null,
            "grid_template_columns": null,
            "grid_template_rows": null,
            "height": null,
            "justify_content": null,
            "justify_items": null,
            "left": null,
            "margin": null,
            "max_height": null,
            "max_width": null,
            "min_height": null,
            "min_width": null,
            "object_fit": null,
            "object_position": null,
            "order": null,
            "overflow": null,
            "overflow_x": null,
            "overflow_y": null,
            "padding": null,
            "right": null,
            "top": null,
            "visibility": null,
            "width": null
          }
        },
        "d7269ac54c1a4feebd78e568c9797544": {
          "model_module": "@jupyter-widgets/controls",
          "model_name": "DescriptionStyleModel",
          "model_module_version": "1.5.0",
          "state": {
            "_model_module": "@jupyter-widgets/controls",
            "_model_module_version": "1.5.0",
            "_model_name": "DescriptionStyleModel",
            "_view_count": null,
            "_view_module": "@jupyter-widgets/base",
            "_view_module_version": "1.2.0",
            "_view_name": "StyleView",
            "description_width": ""
          }
        },
        "499a9fa933de4b8b9955f20349b90dba": {
          "model_module": "@jupyter-widgets/controls",
          "model_name": "HBoxModel",
          "model_module_version": "1.5.0",
          "state": {
            "_dom_classes": [],
            "_model_module": "@jupyter-widgets/controls",
            "_model_module_version": "1.5.0",
            "_model_name": "HBoxModel",
            "_view_count": null,
            "_view_module": "@jupyter-widgets/controls",
            "_view_module_version": "1.5.0",
            "_view_name": "HBoxView",
            "box_style": "",
            "children": [
              "IPY_MODEL_046629c45da24bcdb3c2037f13471ed4",
              "IPY_MODEL_de8670fa40844a789d16d78779803444",
              "IPY_MODEL_d54d24aeeab34b44a7151887eb2e961f"
            ],
            "layout": "IPY_MODEL_6d1fee17b77e47db820314210cdb0c67"
          }
        },
        "046629c45da24bcdb3c2037f13471ed4": {
          "model_module": "@jupyter-widgets/controls",
          "model_name": "HTMLModel",
          "model_module_version": "1.5.0",
          "state": {
            "_dom_classes": [],
            "_model_module": "@jupyter-widgets/controls",
            "_model_module_version": "1.5.0",
            "_model_name": "HTMLModel",
            "_view_count": null,
            "_view_module": "@jupyter-widgets/controls",
            "_view_module_version": "1.5.0",
            "_view_name": "HTMLView",
            "description": "",
            "description_tooltip": null,
            "layout": "IPY_MODEL_cdf9a4f48df444ab83c7e38a42197519",
            "placeholder": "​",
            "style": "IPY_MODEL_450e366c6fed451697a9a56a146ca5f0",
            "value": ""
          }
        },
        "de8670fa40844a789d16d78779803444": {
          "model_module": "@jupyter-widgets/controls",
          "model_name": "FloatProgressModel",
          "model_module_version": "1.5.0",
          "state": {
            "_dom_classes": [],
            "_model_module": "@jupyter-widgets/controls",
            "_model_module_version": "1.5.0",
            "_model_name": "FloatProgressModel",
            "_view_count": null,
            "_view_module": "@jupyter-widgets/controls",
            "_view_module_version": "1.5.0",
            "_view_name": "ProgressView",
            "bar_style": "success",
            "description": "",
            "description_tooltip": null,
            "layout": "IPY_MODEL_64142f5d91574031bf8e4af841e0fbe9",
            "max": 1648877,
            "min": 0,
            "orientation": "horizontal",
            "style": "IPY_MODEL_44a09ece56914b3ea893c32f637f20af",
            "value": 1648877
          }
        },
        "d54d24aeeab34b44a7151887eb2e961f": {
          "model_module": "@jupyter-widgets/controls",
          "model_name": "HTMLModel",
          "model_module_version": "1.5.0",
          "state": {
            "_dom_classes": [],
            "_model_module": "@jupyter-widgets/controls",
            "_model_module_version": "1.5.0",
            "_model_name": "HTMLModel",
            "_view_count": null,
            "_view_module": "@jupyter-widgets/controls",
            "_view_module_version": "1.5.0",
            "_view_name": "HTMLView",
            "description": "",
            "description_tooltip": null,
            "layout": "IPY_MODEL_b2eb91f0fc004aa4951e2ad0a488ff0a",
            "placeholder": "​",
            "style": "IPY_MODEL_9d2a840bf779418092e1479928091334",
            "value": " 1649664/? [00:00&lt;00:00, 10054665.81it/s]"
          }
        },
        "6d1fee17b77e47db820314210cdb0c67": {
          "model_module": "@jupyter-widgets/base",
          "model_name": "LayoutModel",
          "model_module_version": "1.2.0",
          "state": {
            "_model_module": "@jupyter-widgets/base",
            "_model_module_version": "1.2.0",
            "_model_name": "LayoutModel",
            "_view_count": null,
            "_view_module": "@jupyter-widgets/base",
            "_view_module_version": "1.2.0",
            "_view_name": "LayoutView",
            "align_content": null,
            "align_items": null,
            "align_self": null,
            "border": null,
            "bottom": null,
            "display": null,
            "flex": null,
            "flex_flow": null,
            "grid_area": null,
            "grid_auto_columns": null,
            "grid_auto_flow": null,
            "grid_auto_rows": null,
            "grid_column": null,
            "grid_gap": null,
            "grid_row": null,
            "grid_template_areas": null,
            "grid_template_columns": null,
            "grid_template_rows": null,
            "height": null,
            "justify_content": null,
            "justify_items": null,
            "left": null,
            "margin": null,
            "max_height": null,
            "max_width": null,
            "min_height": null,
            "min_width": null,
            "object_fit": null,
            "object_position": null,
            "order": null,
            "overflow": null,
            "overflow_x": null,
            "overflow_y": null,
            "padding": null,
            "right": null,
            "top": null,
            "visibility": null,
            "width": null
          }
        },
        "cdf9a4f48df444ab83c7e38a42197519": {
          "model_module": "@jupyter-widgets/base",
          "model_name": "LayoutModel",
          "model_module_version": "1.2.0",
          "state": {
            "_model_module": "@jupyter-widgets/base",
            "_model_module_version": "1.2.0",
            "_model_name": "LayoutModel",
            "_view_count": null,
            "_view_module": "@jupyter-widgets/base",
            "_view_module_version": "1.2.0",
            "_view_name": "LayoutView",
            "align_content": null,
            "align_items": null,
            "align_self": null,
            "border": null,
            "bottom": null,
            "display": null,
            "flex": null,
            "flex_flow": null,
            "grid_area": null,
            "grid_auto_columns": null,
            "grid_auto_flow": null,
            "grid_auto_rows": null,
            "grid_column": null,
            "grid_gap": null,
            "grid_row": null,
            "grid_template_areas": null,
            "grid_template_columns": null,
            "grid_template_rows": null,
            "height": null,
            "justify_content": null,
            "justify_items": null,
            "left": null,
            "margin": null,
            "max_height": null,
            "max_width": null,
            "min_height": null,
            "min_width": null,
            "object_fit": null,
            "object_position": null,
            "order": null,
            "overflow": null,
            "overflow_x": null,
            "overflow_y": null,
            "padding": null,
            "right": null,
            "top": null,
            "visibility": null,
            "width": null
          }
        },
        "450e366c6fed451697a9a56a146ca5f0": {
          "model_module": "@jupyter-widgets/controls",
          "model_name": "DescriptionStyleModel",
          "model_module_version": "1.5.0",
          "state": {
            "_model_module": "@jupyter-widgets/controls",
            "_model_module_version": "1.5.0",
            "_model_name": "DescriptionStyleModel",
            "_view_count": null,
            "_view_module": "@jupyter-widgets/base",
            "_view_module_version": "1.2.0",
            "_view_name": "StyleView",
            "description_width": ""
          }
        },
        "64142f5d91574031bf8e4af841e0fbe9": {
          "model_module": "@jupyter-widgets/base",
          "model_name": "LayoutModel",
          "model_module_version": "1.2.0",
          "state": {
            "_model_module": "@jupyter-widgets/base",
            "_model_module_version": "1.2.0",
            "_model_name": "LayoutModel",
            "_view_count": null,
            "_view_module": "@jupyter-widgets/base",
            "_view_module_version": "1.2.0",
            "_view_name": "LayoutView",
            "align_content": null,
            "align_items": null,
            "align_self": null,
            "border": null,
            "bottom": null,
            "display": null,
            "flex": null,
            "flex_flow": null,
            "grid_area": null,
            "grid_auto_columns": null,
            "grid_auto_flow": null,
            "grid_auto_rows": null,
            "grid_column": null,
            "grid_gap": null,
            "grid_row": null,
            "grid_template_areas": null,
            "grid_template_columns": null,
            "grid_template_rows": null,
            "height": null,
            "justify_content": null,
            "justify_items": null,
            "left": null,
            "margin": null,
            "max_height": null,
            "max_width": null,
            "min_height": null,
            "min_width": null,
            "object_fit": null,
            "object_position": null,
            "order": null,
            "overflow": null,
            "overflow_x": null,
            "overflow_y": null,
            "padding": null,
            "right": null,
            "top": null,
            "visibility": null,
            "width": null
          }
        },
        "44a09ece56914b3ea893c32f637f20af": {
          "model_module": "@jupyter-widgets/controls",
          "model_name": "ProgressStyleModel",
          "model_module_version": "1.5.0",
          "state": {
            "_model_module": "@jupyter-widgets/controls",
            "_model_module_version": "1.5.0",
            "_model_name": "ProgressStyleModel",
            "_view_count": null,
            "_view_module": "@jupyter-widgets/base",
            "_view_module_version": "1.2.0",
            "_view_name": "StyleView",
            "bar_color": null,
            "description_width": ""
          }
        },
        "b2eb91f0fc004aa4951e2ad0a488ff0a": {
          "model_module": "@jupyter-widgets/base",
          "model_name": "LayoutModel",
          "model_module_version": "1.2.0",
          "state": {
            "_model_module": "@jupyter-widgets/base",
            "_model_module_version": "1.2.0",
            "_model_name": "LayoutModel",
            "_view_count": null,
            "_view_module": "@jupyter-widgets/base",
            "_view_module_version": "1.2.0",
            "_view_name": "LayoutView",
            "align_content": null,
            "align_items": null,
            "align_self": null,
            "border": null,
            "bottom": null,
            "display": null,
            "flex": null,
            "flex_flow": null,
            "grid_area": null,
            "grid_auto_columns": null,
            "grid_auto_flow": null,
            "grid_auto_rows": null,
            "grid_column": null,
            "grid_gap": null,
            "grid_row": null,
            "grid_template_areas": null,
            "grid_template_columns": null,
            "grid_template_rows": null,
            "height": null,
            "justify_content": null,
            "justify_items": null,
            "left": null,
            "margin": null,
            "max_height": null,
            "max_width": null,
            "min_height": null,
            "min_width": null,
            "object_fit": null,
            "object_position": null,
            "order": null,
            "overflow": null,
            "overflow_x": null,
            "overflow_y": null,
            "padding": null,
            "right": null,
            "top": null,
            "visibility": null,
            "width": null
          }
        },
        "9d2a840bf779418092e1479928091334": {
          "model_module": "@jupyter-widgets/controls",
          "model_name": "DescriptionStyleModel",
          "model_module_version": "1.5.0",
          "state": {
            "_model_module": "@jupyter-widgets/controls",
            "_model_module_version": "1.5.0",
            "_model_name": "DescriptionStyleModel",
            "_view_count": null,
            "_view_module": "@jupyter-widgets/base",
            "_view_module_version": "1.2.0",
            "_view_name": "StyleView",
            "description_width": ""
          }
        },
        "5bd4ef9291a744ff9f75ef8153ee7cf2": {
          "model_module": "@jupyter-widgets/controls",
          "model_name": "HBoxModel",
          "model_module_version": "1.5.0",
          "state": {
            "_dom_classes": [],
            "_model_module": "@jupyter-widgets/controls",
            "_model_module_version": "1.5.0",
            "_model_name": "HBoxModel",
            "_view_count": null,
            "_view_module": "@jupyter-widgets/controls",
            "_view_module_version": "1.5.0",
            "_view_name": "HBoxView",
            "box_style": "",
            "children": [
              "IPY_MODEL_83c77a918a294816864b5b8035fb3ac1",
              "IPY_MODEL_78f26ae743c846cb9b36ce4f9481d8ac",
              "IPY_MODEL_2f0bfe49223e488ba5893051de3894b9"
            ],
            "layout": "IPY_MODEL_6fc8068fc1ef40b1a264e3107e3c153d"
          }
        },
        "83c77a918a294816864b5b8035fb3ac1": {
          "model_module": "@jupyter-widgets/controls",
          "model_name": "HTMLModel",
          "model_module_version": "1.5.0",
          "state": {
            "_dom_classes": [],
            "_model_module": "@jupyter-widgets/controls",
            "_model_module_version": "1.5.0",
            "_model_name": "HTMLModel",
            "_view_count": null,
            "_view_module": "@jupyter-widgets/controls",
            "_view_module_version": "1.5.0",
            "_view_name": "HTMLView",
            "description": "",
            "description_tooltip": null,
            "layout": "IPY_MODEL_9f5022b485434b6d8df24e116f684f24",
            "placeholder": "​",
            "style": "IPY_MODEL_d1c03c76d1534b27b5a9dd209e834169",
            "value": ""
          }
        },
        "78f26ae743c846cb9b36ce4f9481d8ac": {
          "model_module": "@jupyter-widgets/controls",
          "model_name": "FloatProgressModel",
          "model_module_version": "1.5.0",
          "state": {
            "_dom_classes": [],
            "_model_module": "@jupyter-widgets/controls",
            "_model_module_version": "1.5.0",
            "_model_name": "FloatProgressModel",
            "_view_count": null,
            "_view_module": "@jupyter-widgets/controls",
            "_view_module_version": "1.5.0",
            "_view_name": "ProgressView",
            "bar_style": "success",
            "description": "",
            "description_tooltip": null,
            "layout": "IPY_MODEL_8b8784773da44471af73caa8cf1d6aff",
            "max": 4542,
            "min": 0,
            "orientation": "horizontal",
            "style": "IPY_MODEL_14ef0fe89e9643d18658f4b3d82aa4d2",
            "value": 4542
          }
        },
        "2f0bfe49223e488ba5893051de3894b9": {
          "model_module": "@jupyter-widgets/controls",
          "model_name": "HTMLModel",
          "model_module_version": "1.5.0",
          "state": {
            "_dom_classes": [],
            "_model_module": "@jupyter-widgets/controls",
            "_model_module_version": "1.5.0",
            "_model_name": "HTMLModel",
            "_view_count": null,
            "_view_module": "@jupyter-widgets/controls",
            "_view_module_version": "1.5.0",
            "_view_name": "HTMLView",
            "description": "",
            "description_tooltip": null,
            "layout": "IPY_MODEL_fc57837b21084bdeb0928836a51b1a47",
            "placeholder": "​",
            "style": "IPY_MODEL_b1cddc0ecdb14b2d90bfdd1a1ec004b9",
            "value": " 5120/? [00:00&lt;00:00, 117423.27it/s]"
          }
        },
        "6fc8068fc1ef40b1a264e3107e3c153d": {
          "model_module": "@jupyter-widgets/base",
          "model_name": "LayoutModel",
          "model_module_version": "1.2.0",
          "state": {
            "_model_module": "@jupyter-widgets/base",
            "_model_module_version": "1.2.0",
            "_model_name": "LayoutModel",
            "_view_count": null,
            "_view_module": "@jupyter-widgets/base",
            "_view_module_version": "1.2.0",
            "_view_name": "LayoutView",
            "align_content": null,
            "align_items": null,
            "align_self": null,
            "border": null,
            "bottom": null,
            "display": null,
            "flex": null,
            "flex_flow": null,
            "grid_area": null,
            "grid_auto_columns": null,
            "grid_auto_flow": null,
            "grid_auto_rows": null,
            "grid_column": null,
            "grid_gap": null,
            "grid_row": null,
            "grid_template_areas": null,
            "grid_template_columns": null,
            "grid_template_rows": null,
            "height": null,
            "justify_content": null,
            "justify_items": null,
            "left": null,
            "margin": null,
            "max_height": null,
            "max_width": null,
            "min_height": null,
            "min_width": null,
            "object_fit": null,
            "object_position": null,
            "order": null,
            "overflow": null,
            "overflow_x": null,
            "overflow_y": null,
            "padding": null,
            "right": null,
            "top": null,
            "visibility": null,
            "width": null
          }
        },
        "9f5022b485434b6d8df24e116f684f24": {
          "model_module": "@jupyter-widgets/base",
          "model_name": "LayoutModel",
          "model_module_version": "1.2.0",
          "state": {
            "_model_module": "@jupyter-widgets/base",
            "_model_module_version": "1.2.0",
            "_model_name": "LayoutModel",
            "_view_count": null,
            "_view_module": "@jupyter-widgets/base",
            "_view_module_version": "1.2.0",
            "_view_name": "LayoutView",
            "align_content": null,
            "align_items": null,
            "align_self": null,
            "border": null,
            "bottom": null,
            "display": null,
            "flex": null,
            "flex_flow": null,
            "grid_area": null,
            "grid_auto_columns": null,
            "grid_auto_flow": null,
            "grid_auto_rows": null,
            "grid_column": null,
            "grid_gap": null,
            "grid_row": null,
            "grid_template_areas": null,
            "grid_template_columns": null,
            "grid_template_rows": null,
            "height": null,
            "justify_content": null,
            "justify_items": null,
            "left": null,
            "margin": null,
            "max_height": null,
            "max_width": null,
            "min_height": null,
            "min_width": null,
            "object_fit": null,
            "object_position": null,
            "order": null,
            "overflow": null,
            "overflow_x": null,
            "overflow_y": null,
            "padding": null,
            "right": null,
            "top": null,
            "visibility": null,
            "width": null
          }
        },
        "d1c03c76d1534b27b5a9dd209e834169": {
          "model_module": "@jupyter-widgets/controls",
          "model_name": "DescriptionStyleModel",
          "model_module_version": "1.5.0",
          "state": {
            "_model_module": "@jupyter-widgets/controls",
            "_model_module_version": "1.5.0",
            "_model_name": "DescriptionStyleModel",
            "_view_count": null,
            "_view_module": "@jupyter-widgets/base",
            "_view_module_version": "1.2.0",
            "_view_name": "StyleView",
            "description_width": ""
          }
        },
        "8b8784773da44471af73caa8cf1d6aff": {
          "model_module": "@jupyter-widgets/base",
          "model_name": "LayoutModel",
          "model_module_version": "1.2.0",
          "state": {
            "_model_module": "@jupyter-widgets/base",
            "_model_module_version": "1.2.0",
            "_model_name": "LayoutModel",
            "_view_count": null,
            "_view_module": "@jupyter-widgets/base",
            "_view_module_version": "1.2.0",
            "_view_name": "LayoutView",
            "align_content": null,
            "align_items": null,
            "align_self": null,
            "border": null,
            "bottom": null,
            "display": null,
            "flex": null,
            "flex_flow": null,
            "grid_area": null,
            "grid_auto_columns": null,
            "grid_auto_flow": null,
            "grid_auto_rows": null,
            "grid_column": null,
            "grid_gap": null,
            "grid_row": null,
            "grid_template_areas": null,
            "grid_template_columns": null,
            "grid_template_rows": null,
            "height": null,
            "justify_content": null,
            "justify_items": null,
            "left": null,
            "margin": null,
            "max_height": null,
            "max_width": null,
            "min_height": null,
            "min_width": null,
            "object_fit": null,
            "object_position": null,
            "order": null,
            "overflow": null,
            "overflow_x": null,
            "overflow_y": null,
            "padding": null,
            "right": null,
            "top": null,
            "visibility": null,
            "width": null
          }
        },
        "14ef0fe89e9643d18658f4b3d82aa4d2": {
          "model_module": "@jupyter-widgets/controls",
          "model_name": "ProgressStyleModel",
          "model_module_version": "1.5.0",
          "state": {
            "_model_module": "@jupyter-widgets/controls",
            "_model_module_version": "1.5.0",
            "_model_name": "ProgressStyleModel",
            "_view_count": null,
            "_view_module": "@jupyter-widgets/base",
            "_view_module_version": "1.2.0",
            "_view_name": "StyleView",
            "bar_color": null,
            "description_width": ""
          }
        },
        "fc57837b21084bdeb0928836a51b1a47": {
          "model_module": "@jupyter-widgets/base",
          "model_name": "LayoutModel",
          "model_module_version": "1.2.0",
          "state": {
            "_model_module": "@jupyter-widgets/base",
            "_model_module_version": "1.2.0",
            "_model_name": "LayoutModel",
            "_view_count": null,
            "_view_module": "@jupyter-widgets/base",
            "_view_module_version": "1.2.0",
            "_view_name": "LayoutView",
            "align_content": null,
            "align_items": null,
            "align_self": null,
            "border": null,
            "bottom": null,
            "display": null,
            "flex": null,
            "flex_flow": null,
            "grid_area": null,
            "grid_auto_columns": null,
            "grid_auto_flow": null,
            "grid_auto_rows": null,
            "grid_column": null,
            "grid_gap": null,
            "grid_row": null,
            "grid_template_areas": null,
            "grid_template_columns": null,
            "grid_template_rows": null,
            "height": null,
            "justify_content": null,
            "justify_items": null,
            "left": null,
            "margin": null,
            "max_height": null,
            "max_width": null,
            "min_height": null,
            "min_width": null,
            "object_fit": null,
            "object_position": null,
            "order": null,
            "overflow": null,
            "overflow_x": null,
            "overflow_y": null,
            "padding": null,
            "right": null,
            "top": null,
            "visibility": null,
            "width": null
          }
        },
        "b1cddc0ecdb14b2d90bfdd1a1ec004b9": {
          "model_module": "@jupyter-widgets/controls",
          "model_name": "DescriptionStyleModel",
          "model_module_version": "1.5.0",
          "state": {
            "_model_module": "@jupyter-widgets/controls",
            "_model_module_version": "1.5.0",
            "_model_name": "DescriptionStyleModel",
            "_view_count": null,
            "_view_module": "@jupyter-widgets/base",
            "_view_module_version": "1.2.0",
            "_view_name": "StyleView",
            "description_width": ""
          }
        }
      }
    }
  },
  "cells": [
    {
      "cell_type": "markdown",
      "source": [
        "Questo è il codice che include il lavoro fatto sulle basi del lab meeting tenuto in data 02 05 22\n"
      ],
      "metadata": {
        "id": "BFLqMteVhaiO"
      }
    },
    {
      "cell_type": "code",
      "execution_count": 1,
      "metadata": {
        "colab": {
          "base_uri": "https://localhost:8080/"
        },
        "id": "EKwNuFuihVIR",
        "outputId": "e1299906-f574-487e-a44e-63af4726568b"
      },
      "outputs": [
        {
          "output_type": "stream",
          "name": "stdout",
          "text": [
            "--2022-05-06 23:49:13--  https://raw.githubusercontent.com/LorenzoTausani/DBN/master/RBM.py\n",
            "Resolving raw.githubusercontent.com (raw.githubusercontent.com)... 185.199.110.133, 185.199.108.133, 185.199.109.133, ...\n",
            "Connecting to raw.githubusercontent.com (raw.githubusercontent.com)|185.199.110.133|:443... connected.\n",
            "HTTP request sent, awaiting response... 200 OK\n",
            "Length: 13497 (13K) [text/plain]\n",
            "Saving to: ‘RBM.py’\n",
            "\n",
            "\rRBM.py                0%[                    ]       0  --.-KB/s               \rRBM.py              100%[===================>]  13.18K  --.-KB/s    in 0s      \n",
            "\n",
            "2022-05-06 23:49:13 (51.0 MB/s) - ‘RBM.py’ saved [13497/13497]\n",
            "\n",
            "--2022-05-06 23:49:13--  https://raw.githubusercontent.com/LorenzoTausani/DBN/master/Linear_model_tf.py\n",
            "Resolving raw.githubusercontent.com (raw.githubusercontent.com)... 185.199.111.133, 185.199.110.133, 185.199.109.133, ...\n",
            "Connecting to raw.githubusercontent.com (raw.githubusercontent.com)|185.199.111.133|:443... connected.\n",
            "HTTP request sent, awaiting response... 200 OK\n",
            "Length: 272 [text/plain]\n",
            "Saving to: ‘Linear_model_tf.py’\n",
            "\n",
            "Linear_model_tf.py  100%[===================>]     272  --.-KB/s    in 0s      \n",
            "\n",
            "2022-05-06 23:49:13 (13.6 MB/s) - ‘Linear_model_tf.py’ saved [272/272]\n",
            "\n"
          ]
        }
      ],
      "source": [
        "# carico i modelli dalla mia repository\n",
        "\n",
        "def get_dbn_library():\n",
        "  files = [\"RBM.py\", \"Linear_model_tf.py\"]\n",
        "  repository_url = \"https://raw.githubusercontent.com/LorenzoTausani/DBN/master/\"\n",
        "  for file in files:\n",
        "    ! wget -O {file} {repository_url}{file}\n",
        "\n",
        "get_dbn_library()\n",
        "\n",
        "import RBM\n",
        "import Linear_model_tf"
      ]
    },
    {
      "cell_type": "code",
      "source": [
        "# Importing the libraries\n",
        "#from RBM_Padella2 import RBM\n",
        "from Linear_model_tf import LinearClassifier\n",
        "\n",
        "from RBM import RBM\n",
        "\n",
        "import torch \n",
        "import torchvision\n",
        "from torchvision import datasets,transforms\n",
        "from torch.utils.data import Dataset,DataLoader\n",
        "\n",
        "import matplotlib\n",
        "import matplotlib.pyplot as plt\n",
        "\n",
        "import math\n",
        "import numpy as np\n",
        "import os\n",
        "import random\n",
        "\n",
        "import time"
      ],
      "metadata": {
        "id": "pd6ka0mbiNev"
      },
      "execution_count": 2,
      "outputs": []
    },
    {
      "cell_type": "code",
      "source": [
        "'''\n",
        "TO RETRIEVE TRAINED MODELS FROM GDRIVE\n",
        "\n",
        "The cell will return the following and your needs to go \n",
        "to the link to retrieve the authorization code. Then you are good to go!\n",
        "'''\n",
        "\n",
        "from google.colab import drive\n",
        "drive.mount('/content/gdrive')"
      ],
      "metadata": {
        "id": "GHC1vx7jiMdY"
      },
      "execution_count": null,
      "outputs": []
    },
    {
      "cell_type": "code",
      "source": [
        "def seed_everything(seed=42):\n",
        "    \"\"\"Seed everything to make the code more reproducable.\n",
        "\n",
        "    This code is the same as that found from many public Kaggle kernels.\n",
        "\n",
        "    Parameters\n",
        "    ----------\n",
        "    seed: int\n",
        "        seed value to ues\n",
        "\n",
        "    \"\"\"\n",
        "    random.seed(seed)\n",
        "    os.environ['PYTHONHASHSEED'] = str(seed)\n",
        "    np.random.seed(seed)\n",
        "    torch.manual_seed(seed)\n",
        "    torch.cuda.manual_seed(seed)\n",
        "    torch.backends.cudnn.deterministic = True"
      ],
      "metadata": {
        "id": "eiDXH1z73RjT"
      },
      "execution_count": null,
      "outputs": []
    },
    {
      "cell_type": "code",
      "source": [
        "#device in use\n",
        "DEVICE = torch.device('cuda' if torch.cuda.is_available() else 'cpu')\n",
        "print(f\"Using device {DEVICE}\")"
      ],
      "metadata": {
        "colab": {
          "base_uri": "https://localhost:8080/"
        },
        "id": "vgZYiRFo2hEx",
        "outputId": "0c5d9e2a-2a86-4144-eec6-3da5bf85f3ce"
      },
      "execution_count": 3,
      "outputs": [
        {
          "output_type": "stream",
          "name": "stdout",
          "text": [
            "Using device cuda\n"
          ]
        }
      ]
    },
    {
      "cell_type": "code",
      "source": [
        "#importo dati mnist e binarizzo\n",
        "\n",
        "#Loading MNIST dataset\n",
        "mnist_data = datasets.MNIST('../data', train=True, download=True,\n",
        "                    transform=transforms.Compose(\n",
        "                    [transforms.ToTensor(),transforms.Normalize((0.1307,), (0.3081,))]))\n",
        "\n",
        "mnist_data.data = (mnist_data.data.type(torch.FloatTensor)/255).bernoulli()\n",
        "#https://stackoverflow.com/questions/68056122/attributeerror-cant-set-attribute-in-splitting-mnist-dataset\n",
        "\n",
        "#Lets us visualize a number from the data set\n",
        "idx = 5\n",
        "img = mnist_data.train_data[idx]\n",
        "print(\"The number shown is the number: {}\".format(mnist_data.train_labels[idx]) )\n",
        "plt.imshow(img , cmap = 'gray')\n",
        "plt.show()"
      ],
      "metadata": {
        "colab": {
          "base_uri": "https://localhost:8080/",
          "height": 757,
          "referenced_widgets": [
            "7cd0bb5a5e204d4c9a63ffae9330fab4",
            "8d27aee2af1b4b7c822494043cc543a2",
            "2c4f1ad0f5bd40c88a0dc8a32e36ae9b",
            "b18679ab75e7438db634e62727de5821",
            "c2544402906146c98c6eb35bd8218e7c",
            "cd641ed7bb7d4362b840092b9ea227d1",
            "ec55139d47504830887d4b5fe00c0465",
            "69ed9bc166894eff8f818f8492e2e655",
            "5157f5e70a9b41028fba172aa9db8ae8",
            "82f76acc34fc4cbdb49ec9aa0b506bb8",
            "6a56890d9fa1433584bdec37353238fd",
            "628a3b51b6a140ed9fae891cf9a79ffa",
            "233d1743412541aabbda46ef488a7efb",
            "99aeddefb85c456ab832eb07a3aca4da",
            "a7f6fb2eb4e944ae8ad97b874567a534",
            "cf8d8b938c4948138a413c667b66b255",
            "5bf4cdbc46f44901a81c2a1f0c70167e",
            "21b34aefd046485fbf0116292eb57ba7",
            "fa854270553045368eb186f1bce6b2e9",
            "9a4310d2699b453eb4281091729b3179",
            "cff9655602cf4479a3228865f037eed4",
            "d7269ac54c1a4feebd78e568c9797544",
            "499a9fa933de4b8b9955f20349b90dba",
            "046629c45da24bcdb3c2037f13471ed4",
            "de8670fa40844a789d16d78779803444",
            "d54d24aeeab34b44a7151887eb2e961f",
            "6d1fee17b77e47db820314210cdb0c67",
            "cdf9a4f48df444ab83c7e38a42197519",
            "450e366c6fed451697a9a56a146ca5f0",
            "64142f5d91574031bf8e4af841e0fbe9",
            "44a09ece56914b3ea893c32f637f20af",
            "b2eb91f0fc004aa4951e2ad0a488ff0a",
            "9d2a840bf779418092e1479928091334",
            "5bd4ef9291a744ff9f75ef8153ee7cf2",
            "83c77a918a294816864b5b8035fb3ac1",
            "78f26ae743c846cb9b36ce4f9481d8ac",
            "2f0bfe49223e488ba5893051de3894b9",
            "6fc8068fc1ef40b1a264e3107e3c153d",
            "9f5022b485434b6d8df24e116f684f24",
            "d1c03c76d1534b27b5a9dd209e834169",
            "8b8784773da44471af73caa8cf1d6aff",
            "14ef0fe89e9643d18658f4b3d82aa4d2",
            "fc57837b21084bdeb0928836a51b1a47",
            "b1cddc0ecdb14b2d90bfdd1a1ec004b9"
          ]
        },
        "id": "T-5L6thxiIa5",
        "outputId": "f1238757-db95-463e-a3d6-a55687f781cd"
      },
      "execution_count": 4,
      "outputs": [
        {
          "output_type": "stream",
          "name": "stdout",
          "text": [
            "Downloading http://yann.lecun.com/exdb/mnist/train-images-idx3-ubyte.gz\n",
            "Downloading http://yann.lecun.com/exdb/mnist/train-images-idx3-ubyte.gz to ../data/MNIST/raw/train-images-idx3-ubyte.gz\n"
          ]
        },
        {
          "output_type": "display_data",
          "data": {
            "text/plain": [
              "  0%|          | 0/9912422 [00:00<?, ?it/s]"
            ],
            "application/vnd.jupyter.widget-view+json": {
              "version_major": 2,
              "version_minor": 0,
              "model_id": "7cd0bb5a5e204d4c9a63ffae9330fab4"
            }
          },
          "metadata": {}
        },
        {
          "output_type": "stream",
          "name": "stdout",
          "text": [
            "Extracting ../data/MNIST/raw/train-images-idx3-ubyte.gz to ../data/MNIST/raw\n",
            "\n",
            "Downloading http://yann.lecun.com/exdb/mnist/train-labels-idx1-ubyte.gz\n",
            "Downloading http://yann.lecun.com/exdb/mnist/train-labels-idx1-ubyte.gz to ../data/MNIST/raw/train-labels-idx1-ubyte.gz\n"
          ]
        },
        {
          "output_type": "display_data",
          "data": {
            "text/plain": [
              "  0%|          | 0/28881 [00:00<?, ?it/s]"
            ],
            "application/vnd.jupyter.widget-view+json": {
              "version_major": 2,
              "version_minor": 0,
              "model_id": "628a3b51b6a140ed9fae891cf9a79ffa"
            }
          },
          "metadata": {}
        },
        {
          "output_type": "stream",
          "name": "stdout",
          "text": [
            "Extracting ../data/MNIST/raw/train-labels-idx1-ubyte.gz to ../data/MNIST/raw\n",
            "\n",
            "Downloading http://yann.lecun.com/exdb/mnist/t10k-images-idx3-ubyte.gz\n",
            "Downloading http://yann.lecun.com/exdb/mnist/t10k-images-idx3-ubyte.gz to ../data/MNIST/raw/t10k-images-idx3-ubyte.gz\n"
          ]
        },
        {
          "output_type": "display_data",
          "data": {
            "text/plain": [
              "  0%|          | 0/1648877 [00:00<?, ?it/s]"
            ],
            "application/vnd.jupyter.widget-view+json": {
              "version_major": 2,
              "version_minor": 0,
              "model_id": "499a9fa933de4b8b9955f20349b90dba"
            }
          },
          "metadata": {}
        },
        {
          "output_type": "stream",
          "name": "stdout",
          "text": [
            "Extracting ../data/MNIST/raw/t10k-images-idx3-ubyte.gz to ../data/MNIST/raw\n",
            "\n",
            "Downloading http://yann.lecun.com/exdb/mnist/t10k-labels-idx1-ubyte.gz\n",
            "Downloading http://yann.lecun.com/exdb/mnist/t10k-labels-idx1-ubyte.gz to ../data/MNIST/raw/t10k-labels-idx1-ubyte.gz\n"
          ]
        },
        {
          "output_type": "display_data",
          "data": {
            "text/plain": [
              "  0%|          | 0/4542 [00:00<?, ?it/s]"
            ],
            "application/vnd.jupyter.widget-view+json": {
              "version_major": 2,
              "version_minor": 0,
              "model_id": "5bd4ef9291a744ff9f75ef8153ee7cf2"
            }
          },
          "metadata": {}
        },
        {
          "output_type": "stream",
          "name": "stdout",
          "text": [
            "Extracting ../data/MNIST/raw/t10k-labels-idx1-ubyte.gz to ../data/MNIST/raw\n",
            "\n",
            "The number shown is the number: 2\n"
          ]
        },
        {
          "output_type": "stream",
          "name": "stderr",
          "text": [
            "/usr/local/lib/python3.7/dist-packages/torchvision/datasets/mnist.py:75: UserWarning: train_data has been renamed data\n",
            "  warnings.warn(\"train_data has been renamed data\")\n",
            "/usr/local/lib/python3.7/dist-packages/torchvision/datasets/mnist.py:65: UserWarning: train_labels has been renamed targets\n",
            "  warnings.warn(\"train_labels has been renamed targets\")\n"
          ]
        },
        {
          "output_type": "display_data",
          "data": {
            "text/plain": [
              "<Figure size 432x288 with 1 Axes>"
            ],
            "image/png": "[encoded data removed]"
          },
          "metadata": {
            "needs_background": "light"
          }
        }
      ]
    },
    {
      "cell_type": "code",
      "source": [
        "rbm_mnist = RBM(visible_units=28*28 ,\n",
        "              hidden_units= 23*23 ,\n",
        "              k = 5,\n",
        "              learning_rate = 0.01,\n",
        "              learning_rate_decay = True,\n",
        "              xavier_init = True,\n",
        "              increase_to_cd_k = False,\n",
        "              use_gpu = False) #nota: use_gpu ora e useless"
      ],
      "metadata": {
        "id": "d8ZiP6Co82W1"
      },
      "execution_count": 5,
      "outputs": []
    },
    {
      "cell_type": "code",
      "source": [
        "#dbn_mnist.train_static(mnist_data.data,mnist_data.train_labels,num_epochs , batch_size)\n",
        "tmp = mnist_data.data\n",
        "train_labels = mnist_data.train_labels\n",
        "\n",
        "batch_size = 50\n",
        "num_epochs = 20\n",
        "\n",
        "\n",
        "tensor_x = tmp.type(torch.FloatTensor).to(DEVICE) # transform to torch tensors\n",
        "tensor_y = train_labels.type(torch.FloatTensor).to(DEVICE)\n",
        "_dataset = torch.utils.data.TensorDataset(tensor_x,tensor_y) # create your datset\n",
        "_dataloader = torch.utils.data.DataLoader(_dataset,batch_size=batch_size,drop_last = True) # create your dataloader\n",
        "\n",
        "\n",
        "start = time.time()\n",
        "\n",
        "Avg_cost, Std_cost = rbm_mnist.train( _dataloader , num_epochs, batch_size)\n",
        "\n",
        "end = time.time()\n",
        "\n",
        "print(end - start)\n",
        "\n"
      ],
      "metadata": {
        "id": "5e23UsqLj1me",
        "colab": {
          "base_uri": "https://localhost:8080/"
        },
        "outputId": "c3e368b9-75af-4d3e-dea3-24811963155e"
      },
      "execution_count": 6,
      "outputs": [
        {
          "output_type": "stream",
          "name": "stderr",
          "text": [
            "/usr/local/lib/python3.7/dist-packages/torchvision/datasets/mnist.py:65: UserWarning: train_labels has been renamed targets\n",
            "  warnings.warn(\"train_labels has been renamed targets\")\n"
          ]
        },
        {
          "output_type": "stream",
          "name": "stdout",
          "text": [
            "RBM fitting: 1200it [00:06, 171.44it/s]\n",
            "Epoch:1 ,avg_cost = 3.6006550788879395 ,std_cost = 0.6282638907432556 ,avg_grad = 7516.52685546875 ,std_grad = 3058.78564453125\n",
            "RBM fitting: 1200it [00:05, 205.41it/s]\n",
            "Epoch:2 ,avg_cost = 2.9547743797302246 ,std_cost = 0.17744556069374084 ,avg_grad = 6219.0166015625 ,std_grad = 328.9150695800781\n",
            "RBM fitting: 1200it [00:05, 206.79it/s]\n",
            "Epoch:3 ,avg_cost = 2.8149821758270264 ,std_cost = 0.16302230954170227 ,avg_grad = 6013.7578125 ,std_grad = 307.8533630371094\n",
            "RBM fitting: 1200it [00:05, 205.44it/s]\n",
            "Epoch:4 ,avg_cost = 2.7476966381073 ,std_cost = 0.1595550775527954 ,avg_grad = 5910.0341796875 ,std_grad = 298.0166320800781\n",
            "RBM fitting: 1200it [00:06, 196.44it/s]\n",
            "Epoch:5 ,avg_cost = 2.699718475341797 ,std_cost = 0.15742525458335876 ,avg_grad = 5842.86279296875 ,std_grad = 297.41180419921875\n",
            "RBM fitting: 1200it [00:06, 183.32it/s]\n",
            "Epoch:6 ,avg_cost = 2.664156675338745 ,std_cost = 0.15742313861846924 ,avg_grad = 5796.130859375 ,std_grad = 287.3445739746094\n",
            "RBM fitting: 1200it [00:05, 202.88it/s]\n",
            "Epoch:7 ,avg_cost = 2.639287233352661 ,std_cost = 0.15360905230045319 ,avg_grad = 5765.77783203125 ,std_grad = 292.3499755859375\n",
            "RBM fitting: 1200it [00:05, 202.43it/s]\n",
            "Epoch:8 ,avg_cost = 2.6147236824035645 ,std_cost = 0.15435908734798431 ,avg_grad = 5733.8173828125 ,std_grad = 289.64288330078125\n",
            "RBM fitting: 1200it [00:05, 203.31it/s]\n",
            "Epoch:9 ,avg_cost = 2.598473072052002 ,std_cost = 0.1519838571548462 ,avg_grad = 5717.0625 ,std_grad = 282.1591491699219\n",
            "RBM fitting: 1200it [00:05, 205.35it/s]\n",
            "Epoch:10 ,avg_cost = 2.581123113632202 ,std_cost = 0.15324606001377106 ,avg_grad = 5695.51611328125 ,std_grad = 281.682861328125\n",
            "RBM fitting: 1200it [00:05, 206.14it/s]\n",
            "Epoch:11 ,avg_cost = 2.5701277256011963 ,std_cost = 0.1514081209897995 ,avg_grad = 5682.76904296875 ,std_grad = 283.8619079589844\n",
            "RBM fitting: 1200it [00:06, 178.31it/s]\n",
            "Epoch:12 ,avg_cost = 2.5582473278045654 ,std_cost = 0.15153661370277405 ,avg_grad = 5662.24365234375 ,std_grad = 280.7359924316406\n",
            "RBM fitting: 1200it [00:05, 203.71it/s]\n",
            "Epoch:13 ,avg_cost = 2.548415184020996 ,std_cost = 0.14825549721717834 ,avg_grad = 5654.93408203125 ,std_grad = 276.0711364746094\n",
            "RBM fitting: 1200it [00:05, 205.45it/s]\n",
            "Epoch:14 ,avg_cost = 2.537773609161377 ,std_cost = 0.14907190203666687 ,avg_grad = 5647.79931640625 ,std_grad = 276.2698974609375\n",
            "RBM fitting: 1200it [00:05, 203.39it/s]\n",
            "Epoch:15 ,avg_cost = 2.531130313873291 ,std_cost = 0.14687903225421906 ,avg_grad = 5634.6513671875 ,std_grad = 274.2941589355469\n",
            "RBM fitting: 1200it [00:06, 199.37it/s]\n",
            "Epoch:16 ,avg_cost = 2.5227620601654053 ,std_cost = 0.14707227051258087 ,avg_grad = 5625.56982421875 ,std_grad = 271.6609802246094\n",
            "RBM fitting: 1200it [00:05, 202.47it/s]\n",
            "Epoch:17 ,avg_cost = 2.515902042388916 ,std_cost = 0.14815782010555267 ,avg_grad = 5617.9482421875 ,std_grad = 276.1243591308594\n",
            "RBM fitting: 1200it [00:05, 201.13it/s]\n",
            "Epoch:18 ,avg_cost = 2.510690927505493 ,std_cost = 0.14555275440216064 ,avg_grad = 5615.6708984375 ,std_grad = 270.3318786621094\n",
            "RBM fitting: 1200it [00:05, 202.92it/s]\n",
            "Epoch:19 ,avg_cost = 2.503936529159546 ,std_cost = 0.1461649388074875 ,avg_grad = 5605.9306640625 ,std_grad = 267.3419494628906\n",
            "RBM fitting: 1200it [00:05, 203.55it/s]\n",
            "Epoch:20 ,avg_cost = 2.4989237785339355 ,std_cost = 0.14559856057167053 ,avg_grad = 5601.74365234375 ,std_grad = 269.9102478027344\n",
            "120.85042881965637\n"
          ]
        }
      ]
    },
    {
      "cell_type": "code",
      "source": [
        "# visualising layer 1\n",
        "learned_weights = rbm_mnist.W.cpu().transpose(0,1).numpy()\n",
        "plt.show()\n",
        "fig = plt.figure(3, figsize=(10,10))\n",
        "for i in range(25): \n",
        "    sub = fig.add_subplot(5, 5, i+1)\n",
        "    sub.imshow(learned_weights[i,:].reshape((28,28)), cmap=plt.cm.gray)\n",
        "plt.show()"
      ],
      "metadata": {
        "colab": {
          "base_uri": "https://localhost:8080/",
          "height": 594
        },
        "id": "-EjK2tj5YRN-",
        "outputId": "c4cdcccb-7e19-4a70-b5cc-2221eaad1407"
      },
      "execution_count": null,
      "outputs": [
        {
          "output_type": "display_data",
          "data": {
            "text/plain": [
              "<Figure size 720x720 with 25 Axes>"
            ],
            "image/png": "[encoded data removed]"
          },
          "metadata": {
            "needs_background": "light"
          }
        }
      ]
    },
    {
      "cell_type": "code",
      "source": [
        "#recostruction check\n",
        "\n",
        "idx = random.randint(0,len(mnist_data.train_data))\n",
        "img = mnist_data.train_data[idx]\n",
        "lbl = mnist_data.train_labels[idx]\n",
        "reconstructed_img = img.view(1,-1).type(torch.FloatTensor)\n",
        "\n",
        "_,reconstructed_img= rbm_mnist.reconstruct(reconstructed_img,1)\n",
        "\n",
        "print(type(lbl))\n",
        "\n",
        "reconstructed_img = reconstructed_img.view((28,28)).cpu()\n",
        "print(\"The original number: {}\".format(lbl))\n",
        "plt.imshow(img , cmap = 'gray')\n",
        "plt.show()\n",
        "print(\"The reconstructed image\")\n",
        "plt.imshow(reconstructed_img , cmap = 'gray')\n",
        "plt.show()"
      ],
      "metadata": {
        "colab": {
          "base_uri": "https://localhost:8080/",
          "height": 634
        },
        "id": "9xAGlkmyjgPk",
        "outputId": "fff31889-ee25-4863-bbbc-3bacd8918422"
      },
      "execution_count": null,
      "outputs": [
        {
          "output_type": "stream",
          "name": "stderr",
          "text": [
            "/usr/local/lib/python3.7/dist-packages/torchvision/datasets/mnist.py:75: UserWarning: train_data has been renamed data\n",
            "  warnings.warn(\"train_data has been renamed data\")\n",
            "/usr/local/lib/python3.7/dist-packages/torchvision/datasets/mnist.py:65: UserWarning: train_labels has been renamed targets\n",
            "  warnings.warn(\"train_labels has been renamed targets\")\n"
          ]
        },
        {
          "output_type": "stream",
          "name": "stdout",
          "text": [
            "<class 'torch.Tensor'>\n",
            "The original number: 1\n"
          ]
        },
        {
          "output_type": "display_data",
          "data": {
            "text/plain": [
              "<Figure size 432x288 with 1 Axes>"
            ],
            "image/png": "[encoded data removed]"
          },
          "metadata": {
            "needs_background": "light"
          }
        },
        {
          "output_type": "stream",
          "name": "stdout",
          "text": [
            "The reconstructed image\n"
          ]
        },
        {
          "output_type": "display_data",
          "data": {
            "text/plain": [
              "<Figure size 432x288 with 1 Axes>"
            ],
            "image/png": "[encoded data removed]"
          },
          "metadata": {
            "needs_background": "light"
          }
        }
      ]
    },
    {
      "cell_type": "code",
      "source": [
        "rbm_mnist.create_h_tran_test_set(mnist_data.train_data, mnist_data.train_labels , nr_train_el=48000, nr_test_el=12000)"
      ],
      "metadata": {
        "colab": {
          "base_uri": "https://localhost:8080/"
        },
        "id": "l0ePBMRHJBN4",
        "outputId": "2d5d3483-9f1c-4a60-e772-3be473c4951e"
      },
      "execution_count": 7,
      "outputs": [
        {
          "output_type": "stream",
          "name": "stderr",
          "text": [
            "/usr/local/lib/python3.7/dist-packages/torchvision/datasets/mnist.py:75: UserWarning: train_data has been renamed data\n",
            "  warnings.warn(\"train_data has been renamed data\")\n",
            "/usr/local/lib/python3.7/dist-packages/torchvision/datasets/mnist.py:65: UserWarning: train_labels has been renamed targets\n",
            "  warnings.warn(\"train_labels has been renamed targets\")\n"
          ]
        }
      ]
    },
    {
      "cell_type": "code",
      "source": [
        "rbm_mnist.train_h_Linear_classifier(nr_epochs=10, Lr=0.01)"
      ],
      "metadata": {
        "colab": {
          "base_uri": "https://localhost:8080/"
        },
        "id": "iX0T2iHVvlj9",
        "outputId": "435a05cb-2604-400d-a40c-3dcb582796dd"
      },
      "execution_count": 10,
      "outputs": [
        {
          "output_type": "stream",
          "name": "stdout",
          "text": [
            "Epoch: 0, loss: 0.37418484412288916\n",
            "Epoch: 1, loss: 0.3698609864028792\n",
            "Epoch: 2, loss: 0.36610264393966646\n",
            "Epoch: 3, loss: 0.36274378893431275\n",
            "Epoch: 4, loss: 0.3596563081722707\n",
            "Epoch: 5, loss: 0.3568732724292204\n",
            "Epoch: 6, loss: 0.354354248327824\n",
            "Epoch: 7, loss: 0.35210147958714516\n",
            "Epoch: 8, loss: 0.3500237678643316\n",
            "Epoch: 9, loss: 0.34786252507474275\n"
          ]
        },
        {
          "output_type": "execute_result",
          "data": {
            "text/plain": [
              "[0.37418484412288916,\n",
              " 0.3698609864028792,\n",
              " 0.36610264393966646,\n",
              " 0.36274378893431275,\n",
              " 0.3596563081722707,\n",
              " 0.3568732724292204,\n",
              " 0.354354248327824,\n",
              " 0.35210147958714516,\n",
              " 0.3500237678643316,\n",
              " 0.34786252507474275]"
            ]
          },
          "metadata": {},
          "execution_count": 10
        }
      ]
    },
    {
      "cell_type": "code",
      "source": [
        "rbm_mnist.test_h_Linear_classifier()"
      ],
      "metadata": {
        "colab": {
          "base_uri": "https://localhost:8080/"
        },
        "id": "fWewUKvcy6JD",
        "outputId": "90582c23-ef09-4335-bbf0-c6a03c06bd73"
      },
      "execution_count": 11,
      "outputs": [
        {
          "output_type": "execute_result",
          "data": {
            "text/plain": [
              "88.1"
            ]
          },
          "metadata": {},
          "execution_count": 11
        }
      ]
    }
  ]
}