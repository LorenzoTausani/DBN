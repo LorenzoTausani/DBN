{
  "nbformat": 4,
  "nbformat_minor": 0,
  "metadata": {
    "colab": {
      "name": "RBM_generation_(3) (1).ipynb",
      "provenance": [],
      "collapsed_sections": []
    },
    "kernelspec": {
      "name": "python3",
      "display_name": "Python 3"
    },
    "language_info": {
      "name": "python"
    },
    "accelerator": "GPU",
    "widgets": {
      "application/vnd.jupyter.widget-state+json": {
        "e9cf3239e6344dc89c17699a1244ec89": {
          "model_module": "@jupyter-widgets/controls",
          "model_name": "HBoxModel",
          "model_module_version": "1.5.0",
          "state": {
            "_dom_classes": [],
            "_model_module": "@jupyter-widgets/controls",
            "_model_module_version": "1.5.0",
            "_model_name": "HBoxModel",
            "_view_count": null,
            "_view_module": "@jupyter-widgets/controls",
            "_view_module_version": "1.5.0",
            "_view_name": "HBoxView",
            "box_style": "",
            "children": [
              "IPY_MODEL_25028c18386f4846b56721c94e87d1f5",
              "IPY_MODEL_be4c5b2ccdbf4e4d9a43e60ac872846b",
              "IPY_MODEL_7dd82af31b6141d2941884f015d34976"
            ],
            "layout": "IPY_MODEL_dcb18be308ef406681c894a4d6a8b569"
          }
        },
        "25028c18386f4846b56721c94e87d1f5": {
          "model_module": "@jupyter-widgets/controls",
          "model_name": "HTMLModel",
          "model_module_version": "1.5.0",
          "state": {
            "_dom_classes": [],
            "_model_module": "@jupyter-widgets/controls",
            "_model_module_version": "1.5.0",
            "_model_name": "HTMLModel",
            "_view_count": null,
            "_view_module": "@jupyter-widgets/controls",
            "_view_module_version": "1.5.0",
            "_view_name": "HTMLView",
            "description": "",
            "description_tooltip": null,
            "layout": "IPY_MODEL_bb3218f841214ed9a133e5d6e3d8b82b",
            "placeholder": "​",
            "style": "IPY_MODEL_c0c43ef24bd84ba6a5964f0523a11edf",
            "value": ""
          }
        },
        "be4c5b2ccdbf4e4d9a43e60ac872846b": {
          "model_module": "@jupyter-widgets/controls",
          "model_name": "FloatProgressModel",
          "model_module_version": "1.5.0",
          "state": {
            "_dom_classes": [],
            "_model_module": "@jupyter-widgets/controls",
            "_model_module_version": "1.5.0",
            "_model_name": "FloatProgressModel",
            "_view_count": null,
            "_view_module": "@jupyter-widgets/controls",
            "_view_module_version": "1.5.0",
            "_view_name": "ProgressView",
            "bar_style": "success",
            "description": "",
            "description_tooltip": null,
            "layout": "IPY_MODEL_6ab6d185c0f348e38e4a5184b0450f06",
            "max": 9912422,
            "min": 0,
            "orientation": "horizontal",
            "style": "IPY_MODEL_9a168c9a83574b0a9a07c7cb19a2a03d",
            "value": 9912422
          }
        },
        "7dd82af31b6141d2941884f015d34976": {
          "model_module": "@jupyter-widgets/controls",
          "model_name": "HTMLModel",
          "model_module_version": "1.5.0",
          "state": {
            "_dom_classes": [],
            "_model_module": "@jupyter-widgets/controls",
            "_model_module_version": "1.5.0",
            "_model_name": "HTMLModel",
            "_view_count": null,
            "_view_module": "@jupyter-widgets/controls",
            "_view_module_version": "1.5.0",
            "_view_name": "HTMLView",
            "description": "",
            "description_tooltip": null,
            "layout": "IPY_MODEL_ab4768c1f6a242de89902bd84987217c",
            "placeholder": "​",
            "style": "IPY_MODEL_24ae7af3ab10401097dbb0e18006357b",
            "value": " 9913344/? [00:00&lt;00:00, 24206632.81it/s]"
          }
        },
        "dcb18be308ef406681c894a4d6a8b569": {
          "model_module": "@jupyter-widgets/base",
          "model_name": "LayoutModel",
          "model_module_version": "1.2.0",
          "state": {
            "_model_module": "@jupyter-widgets/base",
            "_model_module_version": "1.2.0",
            "_model_name": "LayoutModel",
            "_view_count": null,
            "_view_module": "@jupyter-widgets/base",
            "_view_module_version": "1.2.0",
            "_view_name": "LayoutView",
            "align_content": null,
            "align_items": null,
            "align_self": null,
            "border": null,
            "bottom": null,
            "display": null,
            "flex": null,
            "flex_flow": null,
            "grid_area": null,
            "grid_auto_columns": null,
            "grid_auto_flow": null,
            "grid_auto_rows": null,
            "grid_column": null,
            "grid_gap": null,
            "grid_row": null,
            "grid_template_areas": null,
            "grid_template_columns": null,
            "grid_template_rows": null,
            "height": null,
            "justify_content": null,
            "justify_items": null,
            "left": null,
            "margin": null,
            "max_height": null,
            "max_width": null,
            "min_height": null,
            "min_width": null,
            "object_fit": null,
            "object_position": null,
            "order": null,
            "overflow": null,
            "overflow_x": null,
            "overflow_y": null,
            "padding": null,
            "right": null,
            "top": null,
            "visibility": null,
            "width": null
          }
        },
        "bb3218f841214ed9a133e5d6e3d8b82b": {
          "model_module": "@jupyter-widgets/base",
          "model_name": "LayoutModel",
          "model_module_version": "1.2.0",
          "state": {
            "_model_module": "@jupyter-widgets/base",
            "_model_module_version": "1.2.0",
            "_model_name": "LayoutModel",
            "_view_count": null,
            "_view_module": "@jupyter-widgets/base",
            "_view_module_version": "1.2.0",
            "_view_name": "LayoutView",
            "align_content": null,
            "align_items": null,
            "align_self": null,
            "border": null,
            "bottom": null,
            "display": null,
            "flex": null,
            "flex_flow": null,
            "grid_area": null,
            "grid_auto_columns": null,
            "grid_auto_flow": null,
            "grid_auto_rows": null,
            "grid_column": null,
            "grid_gap": null,
            "grid_row": null,
            "grid_template_areas": null,
            "grid_template_columns": null,
            "grid_template_rows": null,
            "height": null,
            "justify_content": null,
            "justify_items": null,
            "left": null,
            "margin": null,
            "max_height": null,
            "max_width": null,
            "min_height": null,
            "min_width": null,
            "object_fit": null,
            "object_position": null,
            "order": null,
            "overflow": null,
            "overflow_x": null,
            "overflow_y": null,
            "padding": null,
            "right": null,
            "top": null,
            "visibility": null,
            "width": null
          }
        },
        "c0c43ef24bd84ba6a5964f0523a11edf": {
          "model_module": "@jupyter-widgets/controls",
          "model_name": "DescriptionStyleModel",
          "model_module_version": "1.5.0",
          "state": {
            "_model_module": "@jupyter-widgets/controls",
            "_model_module_version": "1.5.0",
            "_model_name": "DescriptionStyleModel",
            "_view_count": null,
            "_view_module": "@jupyter-widgets/base",
            "_view_module_version": "1.2.0",
            "_view_name": "StyleView",
            "description_width": ""
          }
        },
        "6ab6d185c0f348e38e4a5184b0450f06": {
          "model_module": "@jupyter-widgets/base",
          "model_name": "LayoutModel",
          "model_module_version": "1.2.0",
          "state": {
            "_model_module": "@jupyter-widgets/base",
            "_model_module_version": "1.2.0",
            "_model_name": "LayoutModel",
            "_view_count": null,
            "_view_module": "@jupyter-widgets/base",
            "_view_module_version": "1.2.0",
            "_view_name": "LayoutView",
            "align_content": null,
            "align_items": null,
            "align_self": null,
            "border": null,
            "bottom": null,
            "display": null,
            "flex": null,
            "flex_flow": null,
            "grid_area": null,
            "grid_auto_columns": null,
            "grid_auto_flow": null,
            "grid_auto_rows": null,
            "grid_column": null,
            "grid_gap": null,
            "grid_row": null,
            "grid_template_areas": null,
            "grid_template_columns": null,
            "grid_template_rows": null,
            "height": null,
            "justify_content": null,
            "justify_items": null,
            "left": null,
            "margin": null,
            "max_height": null,
            "max_width": null,
            "min_height": null,
            "min_width": null,
            "object_fit": null,
            "object_position": null,
            "order": null,
            "overflow": null,
            "overflow_x": null,
            "overflow_y": null,
            "padding": null,
            "right": null,
            "top": null,
            "visibility": null,
            "width": null
          }
        },
        "9a168c9a83574b0a9a07c7cb19a2a03d": {
          "model_module": "@jupyter-widgets/controls",
          "model_name": "ProgressStyleModel",
          "model_module_version": "1.5.0",
          "state": {
            "_model_module": "@jupyter-widgets/controls",
            "_model_module_version": "1.5.0",
            "_model_name": "ProgressStyleModel",
            "_view_count": null,
            "_view_module": "@jupyter-widgets/base",
            "_view_module_version": "1.2.0",
            "_view_name": "StyleView",
            "bar_color": null,
            "description_width": ""
          }
        },
        "ab4768c1f6a242de89902bd84987217c": {
          "model_module": "@jupyter-widgets/base",
          "model_name": "LayoutModel",
          "model_module_version": "1.2.0",
          "state": {
            "_model_module": "@jupyter-widgets/base",
            "_model_module_version": "1.2.0",
            "_model_name": "LayoutModel",
            "_view_count": null,
            "_view_module": "@jupyter-widgets/base",
            "_view_module_version": "1.2.0",
            "_view_name": "LayoutView",
            "align_content": null,
            "align_items": null,
            "align_self": null,
            "border": null,
            "bottom": null,
            "display": null,
            "flex": null,
            "flex_flow": null,
            "grid_area": null,
            "grid_auto_columns": null,
            "grid_auto_flow": null,
            "grid_auto_rows": null,
            "grid_column": null,
            "grid_gap": null,
            "grid_row": null,
            "grid_template_areas": null,
            "grid_template_columns": null,
            "grid_template_rows": null,
            "height": null,
            "justify_content": null,
            "justify_items": null,
            "left": null,
            "margin": null,
            "max_height": null,
            "max_width": null,
            "min_height": null,
            "min_width": null,
            "object_fit": null,
            "object_position": null,
            "order": null,
            "overflow": null,
            "overflow_x": null,
            "overflow_y": null,
            "padding": null,
            "right": null,
            "top": null,
            "visibility": null,
            "width": null
          }
        },
        "24ae7af3ab10401097dbb0e18006357b": {
          "model_module": "@jupyter-widgets/controls",
          "model_name": "DescriptionStyleModel",
          "model_module_version": "1.5.0",
          "state": {
            "_model_module": "@jupyter-widgets/controls",
            "_model_module_version": "1.5.0",
            "_model_name": "DescriptionStyleModel",
            "_view_count": null,
            "_view_module": "@jupyter-widgets/base",
            "_view_module_version": "1.2.0",
            "_view_name": "StyleView",
            "description_width": ""
          }
        },
        "2e3e0e1977734e10871b529454dc17f9": {
          "model_module": "@jupyter-widgets/controls",
          "model_name": "HBoxModel",
          "model_module_version": "1.5.0",
          "state": {
            "_dom_classes": [],
            "_model_module": "@jupyter-widgets/controls",
            "_model_module_version": "1.5.0",
            "_model_name": "HBoxModel",
            "_view_count": null,
            "_view_module": "@jupyter-widgets/controls",
            "_view_module_version": "1.5.0",
            "_view_name": "HBoxView",
            "box_style": "",
            "children": [
              "IPY_MODEL_122e06ee0cb04dc193aa7a4843b5acde",
              "IPY_MODEL_4f1f3383b7c94dfdb739b314b9d1c66d",
              "IPY_MODEL_7aeeeea6365349c49fbbfe08ab04e57e"
            ],
            "layout": "IPY_MODEL_f619d9e3545244748aaec0be440577f3"
          }
        },
        "122e06ee0cb04dc193aa7a4843b5acde": {
          "model_module": "@jupyter-widgets/controls",
          "model_name": "HTMLModel",
          "model_module_version": "1.5.0",
          "state": {
            "_dom_classes": [],
            "_model_module": "@jupyter-widgets/controls",
            "_model_module_version": "1.5.0",
            "_model_name": "HTMLModel",
            "_view_count": null,
            "_view_module": "@jupyter-widgets/controls",
            "_view_module_version": "1.5.0",
            "_view_name": "HTMLView",
            "description": "",
            "description_tooltip": null,
            "layout": "IPY_MODEL_f972ab3d3b2c43e98cdd6cb9873019c4",
            "placeholder": "​",
            "style": "IPY_MODEL_3e4a6fe9baee4e31b86aeb8a0d9d2e25",
            "value": ""
          }
        },
        "4f1f3383b7c94dfdb739b314b9d1c66d": {
          "model_module": "@jupyter-widgets/controls",
          "model_name": "FloatProgressModel",
          "model_module_version": "1.5.0",
          "state": {
            "_dom_classes": [],
            "_model_module": "@jupyter-widgets/controls",
            "_model_module_version": "1.5.0",
            "_model_name": "FloatProgressModel",
            "_view_count": null,
            "_view_module": "@jupyter-widgets/controls",
            "_view_module_version": "1.5.0",
            "_view_name": "ProgressView",
            "bar_style": "success",
            "description": "",
            "description_tooltip": null,
            "layout": "IPY_MODEL_d6d54dcc15164ac5ae0de913f8f8c6d6",
            "max": 28881,
            "min": 0,
            "orientation": "horizontal",
            "style": "IPY_MODEL_9dc5b57162aa42bf8ad9dca4dcdeef13",
            "value": 28881
          }
        },
        "7aeeeea6365349c49fbbfe08ab04e57e": {
          "model_module": "@jupyter-widgets/controls",
          "model_name": "HTMLModel",
          "model_module_version": "1.5.0",
          "state": {
            "_dom_classes": [],
            "_model_module": "@jupyter-widgets/controls",
            "_model_module_version": "1.5.0",
            "_model_name": "HTMLModel",
            "_view_count": null,
            "_view_module": "@jupyter-widgets/controls",
            "_view_module_version": "1.5.0",
            "_view_name": "HTMLView",
            "description": "",
            "description_tooltip": null,
            "layout": "IPY_MODEL_baa01aec4f0a48a582f42ca2a876d468",
            "placeholder": "​",
            "style": "IPY_MODEL_2d5122ec5e4d4c5e99c7680b599372d1",
            "value": " 29696/? [00:00&lt;00:00, 901735.73it/s]"
          }
        },
        "f619d9e3545244748aaec0be440577f3": {
          "model_module": "@jupyter-widgets/base",
          "model_name": "LayoutModel",
          "model_module_version": "1.2.0",
          "state": {
            "_model_module": "@jupyter-widgets/base",
            "_model_module_version": "1.2.0",
            "_model_name": "LayoutModel",
            "_view_count": null,
            "_view_module": "@jupyter-widgets/base",
            "_view_module_version": "1.2.0",
            "_view_name": "LayoutView",
            "align_content": null,
            "align_items": null,
            "align_self": null,
            "border": null,
            "bottom": null,
            "display": null,
            "flex": null,
            "flex_flow": null,
            "grid_area": null,
            "grid_auto_columns": null,
            "grid_auto_flow": null,
            "grid_auto_rows": null,
            "grid_column": null,
            "grid_gap": null,
            "grid_row": null,
            "grid_template_areas": null,
            "grid_template_columns": null,
            "grid_template_rows": null,
            "height": null,
            "justify_content": null,
            "justify_items": null,
            "left": null,
            "margin": null,
            "max_height": null,
            "max_width": null,
            "min_height": null,
            "min_width": null,
            "object_fit": null,
            "object_position": null,
            "order": null,
            "overflow": null,
            "overflow_x": null,
            "overflow_y": null,
            "padding": null,
            "right": null,
            "top": null,
            "visibility": null,
            "width": null
          }
        },
        "f972ab3d3b2c43e98cdd6cb9873019c4": {
          "model_module": "@jupyter-widgets/base",
          "model_name": "LayoutModel",
          "model_module_version": "1.2.0",
          "state": {
            "_model_module": "@jupyter-widgets/base",
            "_model_module_version": "1.2.0",
            "_model_name": "LayoutModel",
            "_view_count": null,
            "_view_module": "@jupyter-widgets/base",
            "_view_module_version": "1.2.0",
            "_view_name": "LayoutView",
            "align_content": null,
            "align_items": null,
            "align_self": null,
            "border": null,
            "bottom": null,
            "display": null,
            "flex": null,
            "flex_flow": null,
            "grid_area": null,
            "grid_auto_columns": null,
            "grid_auto_flow": null,
            "grid_auto_rows": null,
            "grid_column": null,
            "grid_gap": null,
            "grid_row": null,
            "grid_template_areas": null,
            "grid_template_columns": null,
            "grid_template_rows": null,
            "height": null,
            "justify_content": null,
            "justify_items": null,
            "left": null,
            "margin": null,
            "max_height": null,
            "max_width": null,
            "min_height": null,
            "min_width": null,
            "object_fit": null,
            "object_position": null,
            "order": null,
            "overflow": null,
            "overflow_x": null,
            "overflow_y": null,
            "padding": null,
            "right": null,
            "top": null,
            "visibility": null,
            "width": null
          }
        },
        "3e4a6fe9baee4e31b86aeb8a0d9d2e25": {
          "model_module": "@jupyter-widgets/controls",
          "model_name": "DescriptionStyleModel",
          "model_module_version": "1.5.0",
          "state": {
            "_model_module": "@jupyter-widgets/controls",
            "_model_module_version": "1.5.0",
            "_model_name": "DescriptionStyleModel",
            "_view_count": null,
            "_view_module": "@jupyter-widgets/base",
            "_view_module_version": "1.2.0",
            "_view_name": "StyleView",
            "description_width": ""
          }
        },
        "d6d54dcc15164ac5ae0de913f8f8c6d6": {
          "model_module": "@jupyter-widgets/base",
          "model_name": "LayoutModel",
          "model_module_version": "1.2.0",
          "state": {
            "_model_module": "@jupyter-widgets/base",
            "_model_module_version": "1.2.0",
            "_model_name": "LayoutModel",
            "_view_count": null,
            "_view_module": "@jupyter-widgets/base",
            "_view_module_version": "1.2.0",
            "_view_name": "LayoutView",
            "align_content": null,
            "align_items": null,
            "align_self": null,
            "border": null,
            "bottom": null,
            "display": null,
            "flex": null,
            "flex_flow": null,
            "grid_area": null,
            "grid_auto_columns": null,
            "grid_auto_flow": null,
            "grid_auto_rows": null,
            "grid_column": null,
            "grid_gap": null,
            "grid_row": null,
            "grid_template_areas": null,
            "grid_template_columns": null,
            "grid_template_rows": null,
            "height": null,
            "justify_content": null,
            "justify_items": null,
            "left": null,
            "margin": null,
            "max_height": null,
            "max_width": null,
            "min_height": null,
            "min_width": null,
            "object_fit": null,
            "object_position": null,
            "order": null,
            "overflow": null,
            "overflow_x": null,
            "overflow_y": null,
            "padding": null,
            "right": null,
            "top": null,
            "visibility": null,
            "width": null
          }
        },
        "9dc5b57162aa42bf8ad9dca4dcdeef13": {
          "model_module": "@jupyter-widgets/controls",
          "model_name": "ProgressStyleModel",
          "model_module_version": "1.5.0",
          "state": {
            "_model_module": "@jupyter-widgets/controls",
            "_model_module_version": "1.5.0",
            "_model_name": "ProgressStyleModel",
            "_view_count": null,
            "_view_module": "@jupyter-widgets/base",
            "_view_module_version": "1.2.0",
            "_view_name": "StyleView",
            "bar_color": null,
            "description_width": ""
          }
        },
        "baa01aec4f0a48a582f42ca2a876d468": {
          "model_module": "@jupyter-widgets/base",
          "model_name": "LayoutModel",
          "model_module_version": "1.2.0",
          "state": {
            "_model_module": "@jupyter-widgets/base",
            "_model_module_version": "1.2.0",
            "_model_name": "LayoutModel",
            "_view_count": null,
            "_view_module": "@jupyter-widgets/base",
            "_view_module_version": "1.2.0",
            "_view_name": "LayoutView",
            "align_content": null,
            "align_items": null,
            "align_self": null,
            "border": null,
            "bottom": null,
            "display": null,
            "flex": null,
            "flex_flow": null,
            "grid_area": null,
            "grid_auto_columns": null,
            "grid_auto_flow": null,
            "grid_auto_rows": null,
            "grid_column": null,
            "grid_gap": null,
            "grid_row": null,
            "grid_template_areas": null,
            "grid_template_columns": null,
            "grid_template_rows": null,
            "height": null,
            "justify_content": null,
            "justify_items": null,
            "left": null,
            "margin": null,
            "max_height": null,
            "max_width": null,
            "min_height": null,
            "min_width": null,
            "object_fit": null,
            "object_position": null,
            "order": null,
            "overflow": null,
            "overflow_x": null,
            "overflow_y": null,
            "padding": null,
            "right": null,
            "top": null,
            "visibility": null,
            "width": null
          }
        },
        "2d5122ec5e4d4c5e99c7680b599372d1": {
          "model_module": "@jupyter-widgets/controls",
          "model_name": "DescriptionStyleModel",
          "model_module_version": "1.5.0",
          "state": {
            "_model_module": "@jupyter-widgets/controls",
            "_model_module_version": "1.5.0",
            "_model_name": "DescriptionStyleModel",
            "_view_count": null,
            "_view_module": "@jupyter-widgets/base",
            "_view_module_version": "1.2.0",
            "_view_name": "StyleView",
            "description_width": ""
          }
        },
        "bb761dcf1ab84fcca716536a17d03288": {
          "model_module": "@jupyter-widgets/controls",
          "model_name": "HBoxModel",
          "model_module_version": "1.5.0",
          "state": {
            "_dom_classes": [],
            "_model_module": "@jupyter-widgets/controls",
            "_model_module_version": "1.5.0",
            "_model_name": "HBoxModel",
            "_view_count": null,
            "_view_module": "@jupyter-widgets/controls",
            "_view_module_version": "1.5.0",
            "_view_name": "HBoxView",
            "box_style": "",
            "children": [
              "IPY_MODEL_03ac0570acb24f26867e64d79a864c5e",
              "IPY_MODEL_7f38b40e46ea4f26b9f0e46c5d089f60",
              "IPY_MODEL_bdb9b12644c94ceda0ed005bf87ba894"
            ],
            "layout": "IPY_MODEL_87d9b9c9706f430b8c5a5cb66a3bb7ef"
          }
        },
        "03ac0570acb24f26867e64d79a864c5e": {
          "model_module": "@jupyter-widgets/controls",
          "model_name": "HTMLModel",
          "model_module_version": "1.5.0",
          "state": {
            "_dom_classes": [],
            "_model_module": "@jupyter-widgets/controls",
            "_model_module_version": "1.5.0",
            "_model_name": "HTMLModel",
            "_view_count": null,
            "_view_module": "@jupyter-widgets/controls",
            "_view_module_version": "1.5.0",
            "_view_name": "HTMLView",
            "description": "",
            "description_tooltip": null,
            "layout": "IPY_MODEL_f011b4fc04c143feb453103dbe10e59b",
            "placeholder": "​",
            "style": "IPY_MODEL_30555829d6fc4fd99707086ea17700e8",
            "value": ""
          }
        },
        "7f38b40e46ea4f26b9f0e46c5d089f60": {
          "model_module": "@jupyter-widgets/controls",
          "model_name": "FloatProgressModel",
          "model_module_version": "1.5.0",
          "state": {
            "_dom_classes": [],
            "_model_module": "@jupyter-widgets/controls",
            "_model_module_version": "1.5.0",
            "_model_name": "FloatProgressModel",
            "_view_count": null,
            "_view_module": "@jupyter-widgets/controls",
            "_view_module_version": "1.5.0",
            "_view_name": "ProgressView",
            "bar_style": "success",
            "description": "",
            "description_tooltip": null,
            "layout": "IPY_MODEL_f37e7c026c7c4fc09574b56f974a7d28",
            "max": 1648877,
            "min": 0,
            "orientation": "horizontal",
            "style": "IPY_MODEL_a5f0e3d666044b92b1621bd05f01584c",
            "value": 1648877
          }
        },
        "bdb9b12644c94ceda0ed005bf87ba894": {
          "model_module": "@jupyter-widgets/controls",
          "model_name": "HTMLModel",
          "model_module_version": "1.5.0",
          "state": {
            "_dom_classes": [],
            "_model_module": "@jupyter-widgets/controls",
            "_model_module_version": "1.5.0",
            "_model_name": "HTMLModel",
            "_view_count": null,
            "_view_module": "@jupyter-widgets/controls",
            "_view_module_version": "1.5.0",
            "_view_name": "HTMLView",
            "description": "",
            "description_tooltip": null,
            "layout": "IPY_MODEL_08749813617645068e2e384185aa4da2",
            "placeholder": "​",
            "style": "IPY_MODEL_38c15805c6974bfb8a95933bfa14591b",
            "value": " 1649664/? [00:00&lt;00:00, 7577528.43it/s]"
          }
        },
        "87d9b9c9706f430b8c5a5cb66a3bb7ef": {
          "model_module": "@jupyter-widgets/base",
          "model_name": "LayoutModel",
          "model_module_version": "1.2.0",
          "state": {
            "_model_module": "@jupyter-widgets/base",
            "_model_module_version": "1.2.0",
            "_model_name": "LayoutModel",
            "_view_count": null,
            "_view_module": "@jupyter-widgets/base",
            "_view_module_version": "1.2.0",
            "_view_name": "LayoutView",
            "align_content": null,
            "align_items": null,
            "align_self": null,
            "border": null,
            "bottom": null,
            "display": null,
            "flex": null,
            "flex_flow": null,
            "grid_area": null,
            "grid_auto_columns": null,
            "grid_auto_flow": null,
            "grid_auto_rows": null,
            "grid_column": null,
            "grid_gap": null,
            "grid_row": null,
            "grid_template_areas": null,
            "grid_template_columns": null,
            "grid_template_rows": null,
            "height": null,
            "justify_content": null,
            "justify_items": null,
            "left": null,
            "margin": null,
            "max_height": null,
            "max_width": null,
            "min_height": null,
            "min_width": null,
            "object_fit": null,
            "object_position": null,
            "order": null,
            "overflow": null,
            "overflow_x": null,
            "overflow_y": null,
            "padding": null,
            "right": null,
            "top": null,
            "visibility": null,
            "width": null
          }
        },
        "f011b4fc04c143feb453103dbe10e59b": {
          "model_module": "@jupyter-widgets/base",
          "model_name": "LayoutModel",
          "model_module_version": "1.2.0",
          "state": {
            "_model_module": "@jupyter-widgets/base",
            "_model_module_version": "1.2.0",
            "_model_name": "LayoutModel",
            "_view_count": null,
            "_view_module": "@jupyter-widgets/base",
            "_view_module_version": "1.2.0",
            "_view_name": "LayoutView",
            "align_content": null,
            "align_items": null,
            "align_self": null,
            "border": null,
            "bottom": null,
            "display": null,
            "flex": null,
            "flex_flow": null,
            "grid_area": null,
            "grid_auto_columns": null,
            "grid_auto_flow": null,
            "grid_auto_rows": null,
            "grid_column": null,
            "grid_gap": null,
            "grid_row": null,
            "grid_template_areas": null,
            "grid_template_columns": null,
            "grid_template_rows": null,
            "height": null,
            "justify_content": null,
            "justify_items": null,
            "left": null,
            "margin": null,
            "max_height": null,
            "max_width": null,
            "min_height": null,
            "min_width": null,
            "object_fit": null,
            "object_position": null,
            "order": null,
            "overflow": null,
            "overflow_x": null,
            "overflow_y": null,
            "padding": null,
            "right": null,
            "top": null,
            "visibility": null,
            "width": null
          }
        },
        "30555829d6fc4fd99707086ea17700e8": {
          "model_module": "@jupyter-widgets/controls",
          "model_name": "DescriptionStyleModel",
          "model_module_version": "1.5.0",
          "state": {
            "_model_module": "@jupyter-widgets/controls",
            "_model_module_version": "1.5.0",
            "_model_name": "DescriptionStyleModel",
            "_view_count": null,
            "_view_module": "@jupyter-widgets/base",
            "_view_module_version": "1.2.0",
            "_view_name": "StyleView",
            "description_width": ""
          }
        },
        "f37e7c026c7c4fc09574b56f974a7d28": {
          "model_module": "@jupyter-widgets/base",
          "model_name": "LayoutModel",
          "model_module_version": "1.2.0",
          "state": {
            "_model_module": "@jupyter-widgets/base",
            "_model_module_version": "1.2.0",
            "_model_name": "LayoutModel",
            "_view_count": null,
            "_view_module": "@jupyter-widgets/base",
            "_view_module_version": "1.2.0",
            "_view_name": "LayoutView",
            "align_content": null,
            "align_items": null,
            "align_self": null,
            "border": null,
            "bottom": null,
            "display": null,
            "flex": null,
            "flex_flow": null,
            "grid_area": null,
            "grid_auto_columns": null,
            "grid_auto_flow": null,
            "grid_auto_rows": null,
            "grid_column": null,
            "grid_gap": null,
            "grid_row": null,
            "grid_template_areas": null,
            "grid_template_columns": null,
            "grid_template_rows": null,
            "height": null,
            "justify_content": null,
            "justify_items": null,
            "left": null,
            "margin": null,
            "max_height": null,
            "max_width": null,
            "min_height": null,
            "min_width": null,
            "object_fit": null,
            "object_position": null,
            "order": null,
            "overflow": null,
            "overflow_x": null,
            "overflow_y": null,
            "padding": null,
            "right": null,
            "top": null,
            "visibility": null,
            "width": null
          }
        },
        "a5f0e3d666044b92b1621bd05f01584c": {
          "model_module": "@jupyter-widgets/controls",
          "model_name": "ProgressStyleModel",
          "model_module_version": "1.5.0",
          "state": {
            "_model_module": "@jupyter-widgets/controls",
            "_model_module_version": "1.5.0",
            "_model_name": "ProgressStyleModel",
            "_view_count": null,
            "_view_module": "@jupyter-widgets/base",
            "_view_module_version": "1.2.0",
            "_view_name": "StyleView",
            "bar_color": null,
            "description_width": ""
          }
        },
        "08749813617645068e2e384185aa4da2": {
          "model_module": "@jupyter-widgets/base",
          "model_name": "LayoutModel",
          "model_module_version": "1.2.0",
          "state": {
            "_model_module": "@jupyter-widgets/base",
            "_model_module_version": "1.2.0",
            "_model_name": "LayoutModel",
            "_view_count": null,
            "_view_module": "@jupyter-widgets/base",
            "_view_module_version": "1.2.0",
            "_view_name": "LayoutView",
            "align_content": null,
            "align_items": null,
            "align_self": null,
            "border": null,
            "bottom": null,
            "display": null,
            "flex": null,
            "flex_flow": null,
            "grid_area": null,
            "grid_auto_columns": null,
            "grid_auto_flow": null,
            "grid_auto_rows": null,
            "grid_column": null,
            "grid_gap": null,
            "grid_row": null,
            "grid_template_areas": null,
            "grid_template_columns": null,
            "grid_template_rows": null,
            "height": null,
            "justify_content": null,
            "justify_items": null,
            "left": null,
            "margin": null,
            "max_height": null,
            "max_width": null,
            "min_height": null,
            "min_width": null,
            "object_fit": null,
            "object_position": null,
            "order": null,
            "overflow": null,
            "overflow_x": null,
            "overflow_y": null,
            "padding": null,
            "right": null,
            "top": null,
            "visibility": null,
            "width": null
          }
        },
        "38c15805c6974bfb8a95933bfa14591b": {
          "model_module": "@jupyter-widgets/controls",
          "model_name": "DescriptionStyleModel",
          "model_module_version": "1.5.0",
          "state": {
            "_model_module": "@jupyter-widgets/controls",
            "_model_module_version": "1.5.0",
            "_model_name": "DescriptionStyleModel",
            "_view_count": null,
            "_view_module": "@jupyter-widgets/base",
            "_view_module_version": "1.2.0",
            "_view_name": "StyleView",
            "description_width": ""
          }
        },
        "d0647901243a474a88f3be51b261b962": {
          "model_module": "@jupyter-widgets/controls",
          "model_name": "HBoxModel",
          "model_module_version": "1.5.0",
          "state": {
            "_dom_classes": [],
            "_model_module": "@jupyter-widgets/controls",
            "_model_module_version": "1.5.0",
            "_model_name": "HBoxModel",
            "_view_count": null,
            "_view_module": "@jupyter-widgets/controls",
            "_view_module_version": "1.5.0",
            "_view_name": "HBoxView",
            "box_style": "",
            "children": [
              "IPY_MODEL_e0177b841c49464e9578969b76f2bb2e",
              "IPY_MODEL_99baad4450124dfd816065096404cf40",
              "IPY_MODEL_3bcf76ddd58f4fb18c4954791e1da05e"
            ],
            "layout": "IPY_MODEL_62aa12319ec14323a0b890c14a279528"
          }
        },
        "e0177b841c49464e9578969b76f2bb2e": {
          "model_module": "@jupyter-widgets/controls",
          "model_name": "HTMLModel",
          "model_module_version": "1.5.0",
          "state": {
            "_dom_classes": [],
            "_model_module": "@jupyter-widgets/controls",
            "_model_module_version": "1.5.0",
            "_model_name": "HTMLModel",
            "_view_count": null,
            "_view_module": "@jupyter-widgets/controls",
            "_view_module_version": "1.5.0",
            "_view_name": "HTMLView",
            "description": "",
            "description_tooltip": null,
            "layout": "IPY_MODEL_06bc1fa3267e4e15bba20bf89a3f7412",
            "placeholder": "​",
            "style": "IPY_MODEL_98ce6fee6bf34f558cde10a1ea182925",
            "value": ""
          }
        },
        "99baad4450124dfd816065096404cf40": {
          "model_module": "@jupyter-widgets/controls",
          "model_name": "FloatProgressModel",
          "model_module_version": "1.5.0",
          "state": {
            "_dom_classes": [],
            "_model_module": "@jupyter-widgets/controls",
            "_model_module_version": "1.5.0",
            "_model_name": "FloatProgressModel",
            "_view_count": null,
            "_view_module": "@jupyter-widgets/controls",
            "_view_module_version": "1.5.0",
            "_view_name": "ProgressView",
            "bar_style": "success",
            "description": "",
            "description_tooltip": null,
            "layout": "IPY_MODEL_7f798f066c374bce9035164203099c02",
            "max": 4542,
            "min": 0,
            "orientation": "horizontal",
            "style": "IPY_MODEL_68f1c862f9dc477ab704cfd44313b3e2",
            "value": 4542
          }
        },
        "3bcf76ddd58f4fb18c4954791e1da05e": {
          "model_module": "@jupyter-widgets/controls",
          "model_name": "HTMLModel",
          "model_module_version": "1.5.0",
          "state": {
            "_dom_classes": [],
            "_model_module": "@jupyter-widgets/controls",
            "_model_module_version": "1.5.0",
            "_model_name": "HTMLModel",
            "_view_count": null,
            "_view_module": "@jupyter-widgets/controls",
            "_view_module_version": "1.5.0",
            "_view_name": "HTMLView",
            "description": "",
            "description_tooltip": null,
            "layout": "IPY_MODEL_4f93ced5f98042aaba0b2f8ce78198fb",
            "placeholder": "​",
            "style": "IPY_MODEL_81bc950ca3e04a73a302805f8cea3449",
            "value": " 5120/? [00:00&lt;00:00, 160224.10it/s]"
          }
        },
        "62aa12319ec14323a0b890c14a279528": {
          "model_module": "@jupyter-widgets/base",
          "model_name": "LayoutModel",
          "model_module_version": "1.2.0",
          "state": {
            "_model_module": "@jupyter-widgets/base",
            "_model_module_version": "1.2.0",
            "_model_name": "LayoutModel",
            "_view_count": null,
            "_view_module": "@jupyter-widgets/base",
            "_view_module_version": "1.2.0",
            "_view_name": "LayoutView",
            "align_content": null,
            "align_items": null,
            "align_self": null,
            "border": null,
            "bottom": null,
            "display": null,
            "flex": null,
            "flex_flow": null,
            "grid_area": null,
            "grid_auto_columns": null,
            "grid_auto_flow": null,
            "grid_auto_rows": null,
            "grid_column": null,
            "grid_gap": null,
            "grid_row": null,
            "grid_template_areas": null,
            "grid_template_columns": null,
            "grid_template_rows": null,
            "height": null,
            "justify_content": null,
            "justify_items": null,
            "left": null,
            "margin": null,
            "max_height": null,
            "max_width": null,
            "min_height": null,
            "min_width": null,
            "object_fit": null,
            "object_position": null,
            "order": null,
            "overflow": null,
            "overflow_x": null,
            "overflow_y": null,
            "padding": null,
            "right": null,
            "top": null,
            "visibility": null,
            "width": null
          }
        },
        "06bc1fa3267e4e15bba20bf89a3f7412": {
          "model_module": "@jupyter-widgets/base",
          "model_name": "LayoutModel",
          "model_module_version": "1.2.0",
          "state": {
            "_model_module": "@jupyter-widgets/base",
            "_model_module_version": "1.2.0",
            "_model_name": "LayoutModel",
            "_view_count": null,
            "_view_module": "@jupyter-widgets/base",
            "_view_module_version": "1.2.0",
            "_view_name": "LayoutView",
            "align_content": null,
            "align_items": null,
            "align_self": null,
            "border": null,
            "bottom": null,
            "display": null,
            "flex": null,
            "flex_flow": null,
            "grid_area": null,
            "grid_auto_columns": null,
            "grid_auto_flow": null,
            "grid_auto_rows": null,
            "grid_column": null,
            "grid_gap": null,
            "grid_row": null,
            "grid_template_areas": null,
            "grid_template_columns": null,
            "grid_template_rows": null,
            "height": null,
            "justify_content": null,
            "justify_items": null,
            "left": null,
            "margin": null,
            "max_height": null,
            "max_width": null,
            "min_height": null,
            "min_width": null,
            "object_fit": null,
            "object_position": null,
            "order": null,
            "overflow": null,
            "overflow_x": null,
            "overflow_y": null,
            "padding": null,
            "right": null,
            "top": null,
            "visibility": null,
            "width": null
          }
        },
        "98ce6fee6bf34f558cde10a1ea182925": {
          "model_module": "@jupyter-widgets/controls",
          "model_name": "DescriptionStyleModel",
          "model_module_version": "1.5.0",
          "state": {
            "_model_module": "@jupyter-widgets/controls",
            "_model_module_version": "1.5.0",
            "_model_name": "DescriptionStyleModel",
            "_view_count": null,
            "_view_module": "@jupyter-widgets/base",
            "_view_module_version": "1.2.0",
            "_view_name": "StyleView",
            "description_width": ""
          }
        },
        "7f798f066c374bce9035164203099c02": {
          "model_module": "@jupyter-widgets/base",
          "model_name": "LayoutModel",
          "model_module_version": "1.2.0",
          "state": {
            "_model_module": "@jupyter-widgets/base",
            "_model_module_version": "1.2.0",
            "_model_name": "LayoutModel",
            "_view_count": null,
            "_view_module": "@jupyter-widgets/base",
            "_view_module_version": "1.2.0",
            "_view_name": "LayoutView",
            "align_content": null,
            "align_items": null,
            "align_self": null,
            "border": null,
            "bottom": null,
            "display": null,
            "flex": null,
            "flex_flow": null,
            "grid_area": null,
            "grid_auto_columns": null,
            "grid_auto_flow": null,
            "grid_auto_rows": null,
            "grid_column": null,
            "grid_gap": null,
            "grid_row": null,
            "grid_template_areas": null,
            "grid_template_columns": null,
            "grid_template_rows": null,
            "height": null,
            "justify_content": null,
            "justify_items": null,
            "left": null,
            "margin": null,
            "max_height": null,
            "max_width": null,
            "min_height": null,
            "min_width": null,
            "object_fit": null,
            "object_position": null,
            "order": null,
            "overflow": null,
            "overflow_x": null,
            "overflow_y": null,
            "padding": null,
            "right": null,
            "top": null,
            "visibility": null,
            "width": null
          }
        },
        "68f1c862f9dc477ab704cfd44313b3e2": {
          "model_module": "@jupyter-widgets/controls",
          "model_name": "ProgressStyleModel",
          "model_module_version": "1.5.0",
          "state": {
            "_model_module": "@jupyter-widgets/controls",
            "_model_module_version": "1.5.0",
            "_model_name": "ProgressStyleModel",
            "_view_count": null,
            "_view_module": "@jupyter-widgets/base",
            "_view_module_version": "1.2.0",
            "_view_name": "StyleView",
            "bar_color": null,
            "description_width": ""
          }
        },
        "4f93ced5f98042aaba0b2f8ce78198fb": {
          "model_module": "@jupyter-widgets/base",
          "model_name": "LayoutModel",
          "model_module_version": "1.2.0",
          "state": {
            "_model_module": "@jupyter-widgets/base",
            "_model_module_version": "1.2.0",
            "_model_name": "LayoutModel",
            "_view_count": null,
            "_view_module": "@jupyter-widgets/base",
            "_view_module_version": "1.2.0",
            "_view_name": "LayoutView",
            "align_content": null,
            "align_items": null,
            "align_self": null,
            "border": null,
            "bottom": null,
            "display": null,
            "flex": null,
            "flex_flow": null,
            "grid_area": null,
            "grid_auto_columns": null,
            "grid_auto_flow": null,
            "grid_auto_rows": null,
            "grid_column": null,
            "grid_gap": null,
            "grid_row": null,
            "grid_template_areas": null,
            "grid_template_columns": null,
            "grid_template_rows": null,
            "height": null,
            "justify_content": null,
            "justify_items": null,
            "left": null,
            "margin": null,
            "max_height": null,
            "max_width": null,
            "min_height": null,
            "min_width": null,
            "object_fit": null,
            "object_position": null,
            "order": null,
            "overflow": null,
            "overflow_x": null,
            "overflow_y": null,
            "padding": null,
            "right": null,
            "top": null,
            "visibility": null,
            "width": null
          }
        },
        "81bc950ca3e04a73a302805f8cea3449": {
          "model_module": "@jupyter-widgets/controls",
          "model_name": "DescriptionStyleModel",
          "model_module_version": "1.5.0",
          "state": {
            "_model_module": "@jupyter-widgets/controls",
            "_model_module_version": "1.5.0",
            "_model_name": "DescriptionStyleModel",
            "_view_count": null,
            "_view_module": "@jupyter-widgets/base",
            "_view_module_version": "1.2.0",
            "_view_name": "StyleView",
            "description_width": ""
          }
        }
      }
    }
  },
  "cells": [
    {
      "cell_type": "markdown",
      "source": [
        "Questo è il codice che include il lavoro fatto sulle basi del lab meeting tenuto in data 02 05 22\n"
      ],
      "metadata": {
        "id": "BFLqMteVhaiO"
      }
    },
    {
      "cell_type": "code",
      "execution_count": 1,
      "metadata": {
        "colab": {
          "base_uri": "https://localhost:8080/"
        },
        "id": "EKwNuFuihVIR",
        "outputId": "1eae8197-afe7-4442-d818-dd0779617620"
      },
      "outputs": [
        {
          "output_type": "stream",
          "name": "stdout",
          "text": [
            "--2022-05-07 22:47:27--  https://raw.githubusercontent.com/LorenzoTausani/DBN/master/RBM.py\n",
            "Resolving raw.githubusercontent.com (raw.githubusercontent.com)... 185.199.108.133, 185.199.109.133, 185.199.110.133, ...\n",
            "Connecting to raw.githubusercontent.com (raw.githubusercontent.com)|185.199.108.133|:443... connected.\n",
            "HTTP request sent, awaiting response... 200 OK\n",
            "Length: 14650 (14K) [text/plain]\n",
            "Saving to: ‘RBM.py’\n",
            "\n",
            "RBM.py              100%[===================>]  14.31K  --.-KB/s    in 0s      \n",
            "\n",
            "2022-05-07 22:47:27 (114 MB/s) - ‘RBM.py’ saved [14650/14650]\n",
            "\n",
            "--2022-05-07 22:47:27--  https://raw.githubusercontent.com/LorenzoTausani/DBN/master/Linear_model_tf.py\n",
            "Resolving raw.githubusercontent.com (raw.githubusercontent.com)... 185.199.108.133, 185.199.109.133, 185.199.110.133, ...\n",
            "Connecting to raw.githubusercontent.com (raw.githubusercontent.com)|185.199.108.133|:443... connected.\n",
            "HTTP request sent, awaiting response... 200 OK\n",
            "Length: 272 [text/plain]\n",
            "Saving to: ‘Linear_model_tf.py’\n",
            "\n",
            "Linear_model_tf.py  100%[===================>]     272  --.-KB/s    in 0s      \n",
            "\n",
            "2022-05-07 22:47:28 (8.43 MB/s) - ‘Linear_model_tf.py’ saved [272/272]\n",
            "\n"
          ]
        }
      ],
      "source": [
        "# carico i modelli dalla mia repository\n",
        "\n",
        "def get_dbn_library():\n",
        "  files = [\"RBM.py\", \"Linear_model_tf.py\"]\n",
        "  repository_url = \"https://raw.githubusercontent.com/LorenzoTausani/DBN/master/\"\n",
        "  for file in files:\n",
        "    ! wget -O {file} {repository_url}{file}\n",
        "\n",
        "get_dbn_library()\n",
        "\n",
        "import RBM\n",
        "import Linear_model_tf"
      ]
    },
    {
      "cell_type": "code",
      "source": [
        "# Importing the libraries\n",
        "#from RBM_Padella2 import RBM\n",
        "from Linear_model_tf import LinearClassifier\n",
        "\n",
        "from RBM import RBM\n",
        "\n",
        "import torch \n",
        "import torchvision\n",
        "from torchvision import datasets,transforms\n",
        "from torch.utils.data import Dataset,DataLoader\n",
        "\n",
        "import matplotlib\n",
        "import matplotlib.pyplot as plt\n",
        "\n",
        "import math\n",
        "import numpy as np\n",
        "import os\n",
        "import random\n",
        "\n",
        "import time"
      ],
      "metadata": {
        "id": "pd6ka0mbiNev"
      },
      "execution_count": 2,
      "outputs": []
    },
    {
      "cell_type": "code",
      "source": [
        "'''\n",
        "TO RETRIEVE TRAINED MODELS FROM GDRIVE\n",
        "\n",
        "The cell will return the following and your needs to go \n",
        "to the link to retrieve the authorization code. Then you are good to go!\n",
        "'''\n",
        "\n",
        "from google.colab import drive\n",
        "drive.mount('/content/gdrive')"
      ],
      "metadata": {
        "id": "GHC1vx7jiMdY",
        "colab": {
          "base_uri": "https://localhost:8080/",
          "height": 344
        },
        "outputId": "c4cbd16b-956f-4b58-ecd4-53bb324efbe8"
      },
      "execution_count": 5,
      "outputs": [
        {
          "output_type": "error",
          "ename": "MessageError",
          "evalue": "ignored",
          "traceback": [
            "\u001b[0;31m---------------------------------------------------------------------------\u001b[0m",
            "\u001b[0;31mMessageError\u001b[0m                              Traceback (most recent call last)",
            "\u001b[0;32m<ipython-input-5-5e58384c835e>\u001b[0m in \u001b[0;36m<module>\u001b[0;34m()\u001b[0m\n\u001b[1;32m      7\u001b[0m \u001b[0;34m\u001b[0m\u001b[0m\n\u001b[1;32m      8\u001b[0m \u001b[0;32mfrom\u001b[0m \u001b[0mgoogle\u001b[0m\u001b[0;34m.\u001b[0m\u001b[0mcolab\u001b[0m \u001b[0;32mimport\u001b[0m \u001b[0mdrive\u001b[0m\u001b[0;34m\u001b[0m\u001b[0;34m\u001b[0m\u001b[0m\n\u001b[0;32m----> 9\u001b[0;31m \u001b[0mdrive\u001b[0m\u001b[0;34m.\u001b[0m\u001b[0mmount\u001b[0m\u001b[0;34m(\u001b[0m\u001b[0;34m'/content/gdrive'\u001b[0m\u001b[0;34m)\u001b[0m\u001b[0;34m\u001b[0m\u001b[0;34m\u001b[0m\u001b[0m\n\u001b[0m",
            "\u001b[0;32m/usr/local/lib/python3.7/dist-packages/google/colab/drive.py\u001b[0m in \u001b[0;36mmount\u001b[0;34m(mountpoint, force_remount, timeout_ms)\u001b[0m\n\u001b[1;32m    107\u001b[0m       \u001b[0mforce_remount\u001b[0m\u001b[0;34m=\u001b[0m\u001b[0mforce_remount\u001b[0m\u001b[0;34m,\u001b[0m\u001b[0;34m\u001b[0m\u001b[0;34m\u001b[0m\u001b[0m\n\u001b[1;32m    108\u001b[0m       \u001b[0mtimeout_ms\u001b[0m\u001b[0;34m=\u001b[0m\u001b[0mtimeout_ms\u001b[0m\u001b[0;34m,\u001b[0m\u001b[0;34m\u001b[0m\u001b[0;34m\u001b[0m\u001b[0m\n\u001b[0;32m--> 109\u001b[0;31m       ephemeral=True)\n\u001b[0m\u001b[1;32m    110\u001b[0m \u001b[0;34m\u001b[0m\u001b[0m\n\u001b[1;32m    111\u001b[0m \u001b[0;34m\u001b[0m\u001b[0m\n",
            "\u001b[0;32m/usr/local/lib/python3.7/dist-packages/google/colab/drive.py\u001b[0m in \u001b[0;36m_mount\u001b[0;34m(mountpoint, force_remount, timeout_ms, ephemeral)\u001b[0m\n\u001b[1;32m    122\u001b[0m   \u001b[0;32mif\u001b[0m \u001b[0mephemeral\u001b[0m\u001b[0;34m:\u001b[0m\u001b[0;34m\u001b[0m\u001b[0;34m\u001b[0m\u001b[0m\n\u001b[1;32m    123\u001b[0m     _message.blocking_request(\n\u001b[0;32m--> 124\u001b[0;31m         'request_auth', request={'authType': 'dfs_ephemeral'}, timeout_sec=None)\n\u001b[0m\u001b[1;32m    125\u001b[0m \u001b[0;34m\u001b[0m\u001b[0m\n\u001b[1;32m    126\u001b[0m   \u001b[0mmountpoint\u001b[0m \u001b[0;34m=\u001b[0m \u001b[0m_os\u001b[0m\u001b[0;34m.\u001b[0m\u001b[0mpath\u001b[0m\u001b[0;34m.\u001b[0m\u001b[0mexpanduser\u001b[0m\u001b[0;34m(\u001b[0m\u001b[0mmountpoint\u001b[0m\u001b[0;34m)\u001b[0m\u001b[0;34m\u001b[0m\u001b[0;34m\u001b[0m\u001b[0m\n",
            "\u001b[0;32m/usr/local/lib/python3.7/dist-packages/google/colab/_message.py\u001b[0m in \u001b[0;36mblocking_request\u001b[0;34m(request_type, request, timeout_sec, parent)\u001b[0m\n\u001b[1;32m    173\u001b[0m   request_id = send_request(\n\u001b[1;32m    174\u001b[0m       request_type, request, parent=parent, expect_reply=True)\n\u001b[0;32m--> 175\u001b[0;31m   \u001b[0;32mreturn\u001b[0m \u001b[0mread_reply_from_input\u001b[0m\u001b[0;34m(\u001b[0m\u001b[0mrequest_id\u001b[0m\u001b[0;34m,\u001b[0m \u001b[0mtimeout_sec\u001b[0m\u001b[0;34m)\u001b[0m\u001b[0;34m\u001b[0m\u001b[0;34m\u001b[0m\u001b[0m\n\u001b[0m",
            "\u001b[0;32m/usr/local/lib/python3.7/dist-packages/google/colab/_message.py\u001b[0m in \u001b[0;36mread_reply_from_input\u001b[0;34m(message_id, timeout_sec)\u001b[0m\n\u001b[1;32m    104\u001b[0m         reply.get('colab_msg_id') == message_id):\n\u001b[1;32m    105\u001b[0m       \u001b[0;32mif\u001b[0m \u001b[0;34m'error'\u001b[0m \u001b[0;32min\u001b[0m \u001b[0mreply\u001b[0m\u001b[0;34m:\u001b[0m\u001b[0;34m\u001b[0m\u001b[0;34m\u001b[0m\u001b[0m\n\u001b[0;32m--> 106\u001b[0;31m         \u001b[0;32mraise\u001b[0m \u001b[0mMessageError\u001b[0m\u001b[0;34m(\u001b[0m\u001b[0mreply\u001b[0m\u001b[0;34m[\u001b[0m\u001b[0;34m'error'\u001b[0m\u001b[0;34m]\u001b[0m\u001b[0;34m)\u001b[0m\u001b[0;34m\u001b[0m\u001b[0;34m\u001b[0m\u001b[0m\n\u001b[0m\u001b[1;32m    107\u001b[0m       \u001b[0;32mreturn\u001b[0m \u001b[0mreply\u001b[0m\u001b[0;34m.\u001b[0m\u001b[0mget\u001b[0m\u001b[0;34m(\u001b[0m\u001b[0;34m'data'\u001b[0m\u001b[0;34m,\u001b[0m \u001b[0;32mNone\u001b[0m\u001b[0;34m)\u001b[0m\u001b[0;34m\u001b[0m\u001b[0;34m\u001b[0m\u001b[0m\n\u001b[1;32m    108\u001b[0m \u001b[0;34m\u001b[0m\u001b[0m\n",
            "\u001b[0;31mMessageError\u001b[0m: Error: credential propagation was unsuccessful"
          ]
        }
      ]
    },
    {
      "cell_type": "code",
      "source": [
        "def seed_everything(seed=42):\n",
        "    \"\"\"Seed everything to make the code more reproducable.\n",
        "\n",
        "    This code is the same as that found from many public Kaggle kernels.\n",
        "\n",
        "    Parameters\n",
        "    ----------\n",
        "    seed: int\n",
        "        seed value to ues\n",
        "\n",
        "    \"\"\"\n",
        "    random.seed(seed)\n",
        "    os.environ['PYTHONHASHSEED'] = str(seed)\n",
        "    np.random.seed(seed)\n",
        "    torch.manual_seed(seed)\n",
        "    torch.cuda.manual_seed(seed)\n",
        "    torch.backends.cudnn.deterministic = True"
      ],
      "metadata": {
        "id": "eiDXH1z73RjT"
      },
      "execution_count": null,
      "outputs": []
    },
    {
      "cell_type": "code",
      "source": [
        "#device in use\n",
        "DEVICE = torch.device('cuda' if torch.cuda.is_available() else 'cpu')\n",
        "print(f\"Using device {DEVICE}\")"
      ],
      "metadata": {
        "colab": {
          "base_uri": "https://localhost:8080/"
        },
        "id": "vgZYiRFo2hEx",
        "outputId": "e78f1eee-208a-4450-cf5c-61728e3c8cb1"
      },
      "execution_count": 3,
      "outputs": [
        {
          "output_type": "stream",
          "name": "stdout",
          "text": [
            "Using device cuda\n"
          ]
        }
      ]
    },
    {
      "cell_type": "code",
      "source": [
        "#importo dati mnist e binarizzo\n",
        "\n",
        "#Loading MNIST dataset\n",
        "mnist_data = datasets.MNIST('../data', train=True, download=True,\n",
        "                    transform=transforms.Compose(\n",
        "                    [transforms.ToTensor(),transforms.Normalize((0.1307,), (0.3081,))]))\n",
        "\n",
        "mnist_data.data = (mnist_data.data.type(torch.FloatTensor)/255).bernoulli()\n",
        "#https://stackoverflow.com/questions/68056122/attributeerror-cant-set-attribute-in-splitting-mnist-dataset\n",
        "\n",
        "#Lets us visualize a number from the data set\n",
        "idx = 5\n",
        "img = mnist_data.train_data[idx]\n",
        "print(\"The number shown is the number: {}\".format(mnist_data.train_labels[idx]) )\n",
        "plt.imshow(img , cmap = 'gray')\n",
        "plt.show()"
      ],
      "metadata": {
        "colab": {
          "base_uri": "https://localhost:8080/",
          "height": 757,
          "referenced_widgets": [
            "e9cf3239e6344dc89c17699a1244ec89",
            "25028c18386f4846b56721c94e87d1f5",
            "be4c5b2ccdbf4e4d9a43e60ac872846b",
            "7dd82af31b6141d2941884f015d34976",
            "dcb18be308ef406681c894a4d6a8b569",
            "bb3218f841214ed9a133e5d6e3d8b82b",
            "c0c43ef24bd84ba6a5964f0523a11edf",
            "6ab6d185c0f348e38e4a5184b0450f06",
            "9a168c9a83574b0a9a07c7cb19a2a03d",
            "ab4768c1f6a242de89902bd84987217c",
            "24ae7af3ab10401097dbb0e18006357b",
            "2e3e0e1977734e10871b529454dc17f9",
            "122e06ee0cb04dc193aa7a4843b5acde",
            "4f1f3383b7c94dfdb739b314b9d1c66d",
            "7aeeeea6365349c49fbbfe08ab04e57e",
            "f619d9e3545244748aaec0be440577f3",
            "f972ab3d3b2c43e98cdd6cb9873019c4",
            "3e4a6fe9baee4e31b86aeb8a0d9d2e25",
            "d6d54dcc15164ac5ae0de913f8f8c6d6",
            "9dc5b57162aa42bf8ad9dca4dcdeef13",
            "baa01aec4f0a48a582f42ca2a876d468",
            "2d5122ec5e4d4c5e99c7680b599372d1",
            "bb761dcf1ab84fcca716536a17d03288",
            "03ac0570acb24f26867e64d79a864c5e",
            "7f38b40e46ea4f26b9f0e46c5d089f60",
            "bdb9b12644c94ceda0ed005bf87ba894",
            "87d9b9c9706f430b8c5a5cb66a3bb7ef",
            "f011b4fc04c143feb453103dbe10e59b",
            "30555829d6fc4fd99707086ea17700e8",
            "f37e7c026c7c4fc09574b56f974a7d28",
            "a5f0e3d666044b92b1621bd05f01584c",
            "08749813617645068e2e384185aa4da2",
            "38c15805c6974bfb8a95933bfa14591b",
            "d0647901243a474a88f3be51b261b962",
            "e0177b841c49464e9578969b76f2bb2e",
            "99baad4450124dfd816065096404cf40",
            "3bcf76ddd58f4fb18c4954791e1da05e",
            "62aa12319ec14323a0b890c14a279528",
            "06bc1fa3267e4e15bba20bf89a3f7412",
            "98ce6fee6bf34f558cde10a1ea182925",
            "7f798f066c374bce9035164203099c02",
            "68f1c862f9dc477ab704cfd44313b3e2",
            "4f93ced5f98042aaba0b2f8ce78198fb",
            "81bc950ca3e04a73a302805f8cea3449"
          ]
        },
        "id": "T-5L6thxiIa5",
        "outputId": "e8467472-8bf0-46bc-cb69-9626404266d1"
      },
      "execution_count": 4,
      "outputs": [
        {
          "output_type": "stream",
          "name": "stdout",
          "text": [
            "Downloading http://yann.lecun.com/exdb/mnist/train-images-idx3-ubyte.gz\n",
            "Downloading http://yann.lecun.com/exdb/mnist/train-images-idx3-ubyte.gz to ../data/MNIST/raw/train-images-idx3-ubyte.gz\n"
          ]
        },
        {
          "output_type": "display_data",
          "data": {
            "text/plain": [
              "  0%|          | 0/9912422 [00:00<?, ?it/s]"
            ],
            "application/vnd.jupyter.widget-view+json": {
              "version_major": 2,
              "version_minor": 0,
              "model_id": "e9cf3239e6344dc89c17699a1244ec89"
            }
          },
          "metadata": {}
        },
        {
          "output_type": "stream",
          "name": "stdout",
          "text": [
            "Extracting ../data/MNIST/raw/train-images-idx3-ubyte.gz to ../data/MNIST/raw\n",
            "\n",
            "Downloading http://yann.lecun.com/exdb/mnist/train-labels-idx1-ubyte.gz\n",
            "Downloading http://yann.lecun.com/exdb/mnist/train-labels-idx1-ubyte.gz to ../data/MNIST/raw/train-labels-idx1-ubyte.gz\n"
          ]
        },
        {
          "output_type": "display_data",
          "data": {
            "text/plain": [
              "  0%|          | 0/28881 [00:00<?, ?it/s]"
            ],
            "application/vnd.jupyter.widget-view+json": {
              "version_major": 2,
              "version_minor": 0,
              "model_id": "2e3e0e1977734e10871b529454dc17f9"
            }
          },
          "metadata": {}
        },
        {
          "output_type": "stream",
          "name": "stdout",
          "text": [
            "Extracting ../data/MNIST/raw/train-labels-idx1-ubyte.gz to ../data/MNIST/raw\n",
            "\n",
            "Downloading http://yann.lecun.com/exdb/mnist/t10k-images-idx3-ubyte.gz\n",
            "Downloading http://yann.lecun.com/exdb/mnist/t10k-images-idx3-ubyte.gz to ../data/MNIST/raw/t10k-images-idx3-ubyte.gz\n"
          ]
        },
        {
          "output_type": "display_data",
          "data": {
            "text/plain": [
              "  0%|          | 0/1648877 [00:00<?, ?it/s]"
            ],
            "application/vnd.jupyter.widget-view+json": {
              "version_major": 2,
              "version_minor": 0,
              "model_id": "bb761dcf1ab84fcca716536a17d03288"
            }
          },
          "metadata": {}
        },
        {
          "output_type": "stream",
          "name": "stdout",
          "text": [
            "Extracting ../data/MNIST/raw/t10k-images-idx3-ubyte.gz to ../data/MNIST/raw\n",
            "\n",
            "Downloading http://yann.lecun.com/exdb/mnist/t10k-labels-idx1-ubyte.gz\n",
            "Downloading http://yann.lecun.com/exdb/mnist/t10k-labels-idx1-ubyte.gz to ../data/MNIST/raw/t10k-labels-idx1-ubyte.gz\n"
          ]
        },
        {
          "output_type": "display_data",
          "data": {
            "text/plain": [
              "  0%|          | 0/4542 [00:00<?, ?it/s]"
            ],
            "application/vnd.jupyter.widget-view+json": {
              "version_major": 2,
              "version_minor": 0,
              "model_id": "d0647901243a474a88f3be51b261b962"
            }
          },
          "metadata": {}
        },
        {
          "output_type": "stream",
          "name": "stdout",
          "text": [
            "Extracting ../data/MNIST/raw/t10k-labels-idx1-ubyte.gz to ../data/MNIST/raw\n",
            "\n",
            "The number shown is the number: 2\n"
          ]
        },
        {
          "output_type": "stream",
          "name": "stderr",
          "text": [
            "/usr/local/lib/python3.7/dist-packages/torchvision/datasets/mnist.py:75: UserWarning: train_data has been renamed data\n",
            "  warnings.warn(\"train_data has been renamed data\")\n",
            "/usr/local/lib/python3.7/dist-packages/torchvision/datasets/mnist.py:65: UserWarning: train_labels has been renamed targets\n",
            "  warnings.warn(\"train_labels has been renamed targets\")\n"
          ]
        },
        {
          "output_type": "display_data",
          "data": {
            "text/plain": [
              "<Figure size 432x288 with 1 Axes>"
            ],
            "image/png": "[encoded data removed]"
          },
          "metadata": {
            "needs_background": "light"
          }
        }
      ]
    },
    {
      "cell_type": "code",
      "source": [
        "rbm_mnist = RBM(visible_units=28*28 ,\n",
        "              hidden_units= 23*23 ,\n",
        "              k = 5,\n",
        "              learning_rate = 0.01,\n",
        "              learning_rate_decay = True,\n",
        "              xavier_init = True,\n",
        "              increase_to_cd_k = False,\n",
        "              use_gpu = False) #nota: use_gpu ora e useless"
      ],
      "metadata": {
        "id": "d8ZiP6Co82W1"
      },
      "execution_count": 5,
      "outputs": []
    },
    {
      "cell_type": "code",
      "source": [
        "#dbn_mnist.train_static(mnist_data.data,mnist_data.train_labels,num_epochs , batch_size)\n",
        "tmp = mnist_data.data\n",
        "train_labels = mnist_data.train_labels\n",
        "\n",
        "batch_size = 50\n",
        "num_epochs = 20\n",
        "\n",
        "\n",
        "tensor_x = tmp.type(torch.FloatTensor).to(DEVICE) # transform to torch tensors\n",
        "tensor_y = train_labels.type(torch.FloatTensor).to(DEVICE)\n",
        "_dataset = torch.utils.data.TensorDataset(tensor_x,tensor_y) # create your datset\n",
        "_dataloader = torch.utils.data.DataLoader(_dataset,batch_size=batch_size,drop_last = True) # create your dataloader\n",
        "\n",
        "\n",
        "start = time.time()\n",
        "\n",
        "Avg_cost, Std_cost = rbm_mnist.train( _dataloader , num_epochs, batch_size)\n",
        "\n",
        "end = time.time()\n",
        "\n",
        "print(end - start)\n",
        "\n"
      ],
      "metadata": {
        "id": "5e23UsqLj1me",
        "colab": {
          "base_uri": "https://localhost:8080/"
        },
        "outputId": "bb604e98-2ccd-492f-f5da-2a725cfb7951"
      },
      "execution_count": 6,
      "outputs": [
        {
          "output_type": "stream",
          "name": "stderr",
          "text": [
            "/usr/local/lib/python3.7/dist-packages/torchvision/datasets/mnist.py:65: UserWarning: train_labels has been renamed targets\n",
            "  warnings.warn(\"train_labels has been renamed targets\")\n"
          ]
        },
        {
          "output_type": "stream",
          "name": "stdout",
          "text": [
            "RBM fitting: 1200it [00:04, 267.87it/s]\n",
            "Epoch:1 ,avg_cost = 3.6026721000671387 ,std_cost = 0.6312618255615234 ,avg_grad = 7507.087890625 ,std_grad = 3113.6259765625\n",
            "RBM fitting: 1200it [00:04, 270.36it/s]\n",
            "Epoch:2 ,avg_cost = 2.9492435455322266 ,std_cost = 0.17596954107284546 ,avg_grad = 6180.9599609375 ,std_grad = 322.157470703125\n",
            "RBM fitting: 1200it [00:04, 271.61it/s]\n",
            "Epoch:3 ,avg_cost = 2.8071000576019287 ,std_cost = 0.1604233831167221 ,avg_grad = 5976.36669921875 ,std_grad = 300.0490417480469\n",
            "RBM fitting: 1200it [00:04, 273.26it/s]\n",
            "Epoch:4 ,avg_cost = 2.7427518367767334 ,std_cost = 0.15664377808570862 ,avg_grad = 5872.3984375 ,std_grad = 291.30816650390625\n",
            "RBM fitting: 1200it [00:04, 267.06it/s]\n",
            "Epoch:5 ,avg_cost = 2.695476531982422 ,std_cost = 0.1552431881427765 ,avg_grad = 5812.5341796875 ,std_grad = 288.1324157714844\n",
            "RBM fitting: 1200it [00:05, 236.14it/s]\n",
            "Epoch:6 ,avg_cost = 2.662508726119995 ,std_cost = 0.1537480503320694 ,avg_grad = 5772.37158203125 ,std_grad = 285.5507507324219\n",
            "RBM fitting: 1200it [00:04, 276.77it/s]\n",
            "Epoch:7 ,avg_cost = 2.636486768722534 ,std_cost = 0.1531466841697693 ,avg_grad = 5749.4384765625 ,std_grad = 284.7489013671875\n",
            "RBM fitting: 1200it [00:04, 272.70it/s]\n",
            "Epoch:8 ,avg_cost = 2.6169612407684326 ,std_cost = 0.15109065175056458 ,avg_grad = 5718.76513671875 ,std_grad = 284.26422119140625\n",
            "RBM fitting: 1200it [00:04, 274.28it/s]\n",
            "Epoch:9 ,avg_cost = 2.5985352993011475 ,std_cost = 0.152023047208786 ,avg_grad = 5702.53759765625 ,std_grad = 276.46331787109375\n",
            "RBM fitting: 1200it [00:04, 254.88it/s]\n",
            "Epoch:10 ,avg_cost = 2.58212947845459 ,std_cost = 0.14997832477092743 ,avg_grad = 5682.6201171875 ,std_grad = 276.50457763671875\n",
            "RBM fitting: 1200it [00:04, 275.85it/s]\n",
            "Epoch:11 ,avg_cost = 2.569319725036621 ,std_cost = 0.14947684109210968 ,avg_grad = 5666.20751953125 ,std_grad = 278.55712890625\n",
            "RBM fitting: 1200it [00:04, 268.75it/s]\n",
            "Epoch:12 ,avg_cost = 2.5553324222564697 ,std_cost = 0.14983084797859192 ,avg_grad = 5651.65234375 ,std_grad = 279.9336853027344\n",
            "RBM fitting: 1200it [00:04, 272.13it/s]\n",
            "Epoch:13 ,avg_cost = 2.5468387603759766 ,std_cost = 0.14708465337753296 ,avg_grad = 5642.5771484375 ,std_grad = 278.35028076171875\n",
            "RBM fitting: 1200it [00:04, 270.92it/s]\n",
            "Epoch:14 ,avg_cost = 2.5375540256500244 ,std_cost = 0.14723330736160278 ,avg_grad = 5632.72314453125 ,std_grad = 277.5574645996094\n",
            "RBM fitting: 1200it [00:04, 266.67it/s]\n",
            "Epoch:15 ,avg_cost = 2.527998924255371 ,std_cost = 0.1451750546693802 ,avg_grad = 5624.724609375 ,std_grad = 270.1724853515625\n",
            "RBM fitting: 1200it [00:04, 274.52it/s]\n",
            "Epoch:16 ,avg_cost = 2.523020029067993 ,std_cost = 0.14646834135055542 ,avg_grad = 5614.5400390625 ,std_grad = 275.65057373046875\n",
            "RBM fitting: 1200it [00:04, 268.19it/s]\n",
            "Epoch:17 ,avg_cost = 2.514349937438965 ,std_cost = 0.14509500563144684 ,avg_grad = 5606.92578125 ,std_grad = 275.4161071777344\n",
            "RBM fitting: 1200it [00:04, 271.88it/s]\n",
            "Epoch:18 ,avg_cost = 2.5087618827819824 ,std_cost = 0.14688967168331146 ,avg_grad = 5599.63330078125 ,std_grad = 277.3365783691406\n",
            "RBM fitting: 1200it [00:04, 273.70it/s]\n",
            "Epoch:19 ,avg_cost = 2.502443552017212 ,std_cost = 0.14278088510036469 ,avg_grad = 5592.91943359375 ,std_grad = 265.1981506347656\n",
            "RBM fitting: 1200it [00:04, 276.42it/s]\n",
            "Epoch:20 ,avg_cost = 2.4945085048675537 ,std_cost = 0.14423958957195282 ,avg_grad = 5587.67431640625 ,std_grad = 267.2952575683594\n",
            "89.41254329681396\n"
          ]
        }
      ]
    },
    {
      "cell_type": "code",
      "source": [
        "# visualising layer 1\n",
        "learned_weights = rbm_mnist.W.cpu().transpose(0,1).numpy()\n",
        "plt.show()\n",
        "fig = plt.figure(3, figsize=(10,10))\n",
        "for i in range(25): \n",
        "    sub = fig.add_subplot(5, 5, i+1)\n",
        "    sub.imshow(learned_weights[i,:].reshape((28,28)), cmap=plt.cm.gray)\n",
        "plt.show()"
      ],
      "metadata": {
        "colab": {
          "base_uri": "https://localhost:8080/",
          "height": 594
        },
        "id": "-EjK2tj5YRN-",
        "outputId": "c4cdcccb-7e19-4a70-b5cc-2221eaad1407"
      },
      "execution_count": null,
      "outputs": [
        {
          "output_type": "display_data",
          "data": {
            "text/plain": [
              "<Figure size 720x720 with 25 Axes>"
            ],
            "image/png": "[encoded data removed]"
          },
          "metadata": {
            "needs_background": "light"
          }
        }
      ]
    },
    {
      "cell_type": "code",
      "source": [
        "#recostruction check\n",
        "\n",
        "idx = random.randint(0,len(mnist_data.train_data))\n",
        "img = mnist_data.train_data[idx]\n",
        "lbl = mnist_data.train_labels[idx]\n",
        "reconstructed_img = img.view(1,-1).type(torch.FloatTensor)\n",
        "\n",
        "_,reconstructed_img= rbm_mnist.reconstruct(reconstructed_img,1)\n",
        "\n",
        "print(type(lbl))\n",
        "\n",
        "reconstructed_img = reconstructed_img.view((28,28)).cpu()\n",
        "print(\"The original number: {}\".format(lbl))\n",
        "plt.imshow(img , cmap = 'gray')\n",
        "plt.show()\n",
        "print(\"The reconstructed image\")\n",
        "plt.imshow(reconstructed_img , cmap = 'gray')\n",
        "plt.show()"
      ],
      "metadata": {
        "colab": {
          "base_uri": "https://localhost:8080/",
          "height": 634
        },
        "id": "9xAGlkmyjgPk",
        "outputId": "88dd1f63-b0ba-470b-f2d4-dce524ef62ec"
      },
      "execution_count": null,
      "outputs": [
        {
          "output_type": "stream",
          "name": "stdout",
          "text": [
            "<class 'torch.Tensor'>\n",
            "The original number: 3\n"
          ]
        },
        {
          "output_type": "stream",
          "name": "stderr",
          "text": [
            "/usr/local/lib/python3.7/dist-packages/torchvision/datasets/mnist.py:75: UserWarning: train_data has been renamed data\n",
            "  warnings.warn(\"train_data has been renamed data\")\n",
            "/usr/local/lib/python3.7/dist-packages/torchvision/datasets/mnist.py:65: UserWarning: train_labels has been renamed targets\n",
            "  warnings.warn(\"train_labels has been renamed targets\")\n"
          ]
        },
        {
          "output_type": "display_data",
          "data": {
            "text/plain": [
              "<Figure size 432x288 with 1 Axes>"
            ],
            "image/png": "[encoded data removed]"
          },
          "metadata": {
            "needs_background": "light"
          }
        },
        {
          "output_type": "stream",
          "name": "stdout",
          "text": [
            "The reconstructed image\n"
          ]
        },
        {
          "output_type": "display_data",
          "data": {
            "text/plain": [
              "<Figure size 432x288 with 1 Axes>"
            ],
            "image/png": "[encoded data removed]"
          },
          "metadata": {
            "needs_background": "light"
          }
        }
      ]
    },
    {
      "cell_type": "code",
      "source": [
        "rbm_mnist.create_h_tran_test_set(mnist_data.train_data, mnist_data.train_labels , nr_train_el=48000, nr_test_el=0, nr_gibbs=1)\n",
        "#rbm_mnist.create_h_tran_test_set(mnist_data.train_data, mnist_data.train_labels , nr_train_el=0, nr_test_el=12000, nr_gibbs=10)"
      ],
      "metadata": {
        "colab": {
          "base_uri": "https://localhost:8080/"
        },
        "id": "l0ePBMRHJBN4",
        "outputId": "b93b4599-7948-4365-fe92-780a9d09cbe7"
      },
      "execution_count": 7,
      "outputs": [
        {
          "output_type": "stream",
          "name": "stderr",
          "text": [
            "/usr/local/lib/python3.7/dist-packages/torchvision/datasets/mnist.py:75: UserWarning: train_data has been renamed data\n",
            "  warnings.warn(\"train_data has been renamed data\")\n",
            "/usr/local/lib/python3.7/dist-packages/torchvision/datasets/mnist.py:65: UserWarning: train_labels has been renamed targets\n",
            "  warnings.warn(\"train_labels has been renamed targets\")\n"
          ]
        }
      ]
    },
    {
      "cell_type": "code",
      "source": [
        "nr_e = 100\n",
        "rbm_mnist.train_h_Linear_classifier(nr_epochs=nr_e, Lr=0.01)"
      ],
      "metadata": {
        "colab": {
          "base_uri": "https://localhost:8080/"
        },
        "id": "iX0T2iHVvlj9",
        "outputId": "6bf13060-34fe-491e-d05b-e315e3d6b2e5"
      },
      "execution_count": 36,
      "outputs": [
        {
          "output_type": "stream",
          "name": "stdout",
          "text": [
            "Epoch: 0, loss: 0.3084853604435921\n",
            "Epoch: 1, loss: 0.3084298220851148\n",
            "Epoch: 2, loss: 0.30833050739020107\n",
            "Epoch: 3, loss: 0.3083188551012427\n",
            "Epoch: 4, loss: 0.30819135256266844\n",
            "Epoch: 5, loss: 0.30800938690857343\n",
            "Epoch: 6, loss: 0.3079095968588566\n",
            "Epoch: 7, loss: 0.3078553418861702\n",
            "Epoch: 8, loss: 0.30778758286808927\n",
            "Epoch: 9, loss: 0.30757049346963566\n",
            "Epoch: 10, loss: 0.30763803272663304\n",
            "Epoch: 11, loss: 0.3075257353562241\n",
            "Epoch: 12, loss: 0.3074803400901146\n",
            "Epoch: 13, loss: 0.3073770531375582\n",
            "Epoch: 14, loss: 0.30729273811060315\n",
            "Epoch: 15, loss: 0.30719525370902073\n",
            "Epoch: 16, loss: 0.3069950366315121\n",
            "Epoch: 17, loss: 0.3071455352163563\n",
            "Epoch: 18, loss: 0.3069482416380197\n",
            "Epoch: 19, loss: 0.3067636928365876\n",
            "Epoch: 20, loss: 0.306797950854525\n",
            "Epoch: 21, loss: 0.3067779696856936\n",
            "Epoch: 22, loss: 0.3065840803125563\n",
            "Epoch: 23, loss: 0.3065826618578285\n",
            "Epoch: 24, loss: 0.30664247697762526\n",
            "Epoch: 25, loss: 0.3064453323449319\n",
            "Epoch: 26, loss: 0.3063262212012584\n",
            "Epoch: 27, loss: 0.30632993798159686\n",
            "Epoch: 28, loss: 0.30623442065746836\n",
            "Epoch: 29, loss: 0.3063420543524747\n",
            "Epoch: 30, loss: 0.3061250966275111\n",
            "Epoch: 31, loss: 0.3060669029286752\n",
            "Epoch: 32, loss: 0.30599427958174297\n",
            "Epoch: 33, loss: 0.3059536199706296\n",
            "Epoch: 34, loss: 0.3058340984086196\n",
            "Epoch: 35, loss: 0.3059248253159846\n",
            "Epoch: 36, loss: 0.3056319243235824\n",
            "Epoch: 37, loss: 0.30588406113286815\n",
            "Epoch: 38, loss: 0.3056714183767326\n",
            "Epoch: 39, loss: 0.3056468531411762\n",
            "Epoch: 40, loss: 0.30561992498114704\n",
            "Epoch: 41, loss: 0.30558268757692225\n",
            "Epoch: 42, loss: 0.30549005277377245\n",
            "Epoch: 43, loss: 0.30542957682628186\n",
            "Epoch: 44, loss: 0.3053172201112223\n",
            "Epoch: 45, loss: 0.3053047325772544\n",
            "Epoch: 46, loss: 0.3052997055773934\n",
            "Epoch: 47, loss: 0.30522636832514155\n",
            "Epoch: 48, loss: 0.3050612894895797\n",
            "Epoch: 49, loss: 0.3050495056513076\n",
            "Epoch: 50, loss: 0.30501236390943326\n",
            "Epoch: 51, loss: 0.30494609181381144\n",
            "Epoch: 52, loss: 0.30507507304816195\n",
            "Epoch: 53, loss: 0.3049468451412395\n",
            "Epoch: 54, loss: 0.30488060708157716\n",
            "Epoch: 55, loss: 0.30481233377940953\n",
            "Epoch: 56, loss: 0.30479096552201856\n",
            "Epoch: 57, loss: 0.3048121185507625\n",
            "Epoch: 58, loss: 0.3047581810737029\n",
            "Epoch: 59, loss: 0.3046495883104702\n",
            "Epoch: 60, loss: 0.30457566285816334\n",
            "Epoch: 61, loss: 0.30451236218990135\n",
            "Epoch: 62, loss: 0.30444063658360393\n",
            "Epoch: 63, loss: 0.3044712313218042\n",
            "Epoch: 64, loss: 0.30438620063553873\n",
            "Epoch: 65, loss: 0.3044444799888879\n",
            "Epoch: 66, loss: 0.3040765022082875\n",
            "Epoch: 67, loss: 0.30441424562595787\n",
            "Epoch: 68, loss: 0.30422738994626947\n",
            "Epoch: 69, loss: 0.3042214343867575\n",
            "Epoch: 70, loss: 0.30417212448082864\n",
            "Epoch: 71, loss: 0.3040538575461445\n",
            "Epoch: 72, loss: 0.3042322808333362\n",
            "Epoch: 73, loss: 0.304079348493057\n",
            "Epoch: 74, loss: 0.3040523040185993\n",
            "Epoch: 75, loss: 0.3040409566058467\n",
            "Epoch: 76, loss: 0.3039944320529078\n",
            "Epoch: 77, loss: 0.30402232134559504\n",
            "Epoch: 78, loss: 0.3040378668733562\n",
            "Epoch: 79, loss: 0.30391377868751684\n",
            "Epoch: 80, loss: 0.3037266040453687\n",
            "Epoch: 81, loss: 0.3038439660410707\n",
            "Epoch: 82, loss: 0.3039019249767686\n",
            "Epoch: 83, loss: 0.3038310143708562\n",
            "Epoch: 84, loss: 0.3037149905770396\n",
            "Epoch: 85, loss: 0.30377626362411925\n",
            "Epoch: 86, loss: 0.30366842926790316\n",
            "Epoch: 87, loss: 0.3035427329285691\n",
            "Epoch: 88, loss: 0.3035893367525811\n",
            "Epoch: 89, loss: 0.30370384484995155\n",
            "Epoch: 90, loss: 0.30349860816883545\n",
            "Epoch: 91, loss: 0.30357910005841404\n",
            "Epoch: 92, loss: 0.3035037365470392\n",
            "Epoch: 93, loss: 0.30349602494388817\n",
            "Epoch: 94, loss: 0.3034713827151184\n",
            "Epoch: 95, loss: 0.30340922469816484\n",
            "Epoch: 96, loss: 0.30340559683584917\n",
            "Epoch: 97, loss: 0.303363428870216\n",
            "Epoch: 98, loss: 0.3033440073641638\n",
            "Epoch: 99, loss: 0.3033908259278784\n"
          ]
        },
        {
          "output_type": "execute_result",
          "data": {
            "text/plain": [
              "[0.3084853604435921,\n",
              " 0.3084298220851148,\n",
              " 0.30833050739020107,\n",
              " 0.3083188551012427,\n",
              " 0.30819135256266844,\n",
              " 0.30800938690857343,\n",
              " 0.3079095968588566,\n",
              " 0.3078553418861702,\n",
              " 0.30778758286808927,\n",
              " 0.30757049346963566,\n",
              " 0.30763803272663304,\n",
              " 0.3075257353562241,\n",
              " 0.3074803400901146,\n",
              " 0.3073770531375582,\n",
              " 0.30729273811060315,\n",
              " 0.30719525370902073,\n",
              " 0.3069950366315121,\n",
              " 0.3071455352163563,\n",
              " 0.3069482416380197,\n",
              " 0.3067636928365876,\n",
              " 0.306797950854525,\n",
              " 0.3067779696856936,\n",
              " 0.3065840803125563,\n",
              " 0.3065826618578285,\n",
              " 0.30664247697762526,\n",
              " 0.3064453323449319,\n",
              " 0.3063262212012584,\n",
              " 0.30632993798159686,\n",
              " 0.30623442065746836,\n",
              " 0.3063420543524747,\n",
              " 0.3061250966275111,\n",
              " 0.3060669029286752,\n",
              " 0.30599427958174297,\n",
              " 0.3059536199706296,\n",
              " 0.3058340984086196,\n",
              " 0.3059248253159846,\n",
              " 0.3056319243235824,\n",
              " 0.30588406113286815,\n",
              " 0.3056714183767326,\n",
              " 0.3056468531411762,\n",
              " 0.30561992498114704,\n",
              " 0.30558268757692225,\n",
              " 0.30549005277377245,\n",
              " 0.30542957682628186,\n",
              " 0.3053172201112223,\n",
              " 0.3053047325772544,\n",
              " 0.3052997055773934,\n",
              " 0.30522636832514155,\n",
              " 0.3050612894895797,\n",
              " 0.3050495056513076,\n",
              " 0.30501236390943326,\n",
              " 0.30494609181381144,\n",
              " 0.30507507304816195,\n",
              " 0.3049468451412395,\n",
              " 0.30488060708157716,\n",
              " 0.30481233377940953,\n",
              " 0.30479096552201856,\n",
              " 0.3048121185507625,\n",
              " 0.3047581810737029,\n",
              " 0.3046495883104702,\n",
              " 0.30457566285816334,\n",
              " 0.30451236218990135,\n",
              " 0.30444063658360393,\n",
              " 0.3044712313218042,\n",
              " 0.30438620063553873,\n",
              " 0.3044444799888879,\n",
              " 0.3040765022082875,\n",
              " 0.30441424562595787,\n",
              " 0.30422738994626947,\n",
              " 0.3042214343867575,\n",
              " 0.30417212448082864,\n",
              " 0.3040538575461445,\n",
              " 0.3042322808333362,\n",
              " 0.304079348493057,\n",
              " 0.3040523040185993,\n",
              " 0.3040409566058467,\n",
              " 0.3039944320529078,\n",
              " 0.30402232134559504,\n",
              " 0.3040378668733562,\n",
              " 0.30391377868751684,\n",
              " 0.3037266040453687,\n",
              " 0.3038439660410707,\n",
              " 0.3039019249767686,\n",
              " 0.3038310143708562,\n",
              " 0.3037149905770396,\n",
              " 0.30377626362411925,\n",
              " 0.30366842926790316,\n",
              " 0.3035427329285691,\n",
              " 0.3035893367525811,\n",
              " 0.30370384484995155,\n",
              " 0.30349860816883545,\n",
              " 0.30357910005841404,\n",
              " 0.3035037365470392,\n",
              " 0.30349602494388817,\n",
              " 0.3034713827151184,\n",
              " 0.30340922469816484,\n",
              " 0.30340559683584917,\n",
              " 0.303363428870216,\n",
              " 0.3033440073641638,\n",
              " 0.3033908259278784]"
            ]
          },
          "metadata": {},
          "execution_count": 36
        }
      ]
    },
    {
      "cell_type": "code",
      "source": [
        "start = time.time()\n",
        "\n",
        "perf_list=[]\n",
        "\n",
        "for i in range(1, 1, 20):\n",
        "  rbm_mnist.create_h_tran_test_set(mnist_data.train_data, mnist_data.train_labels , nr_train_el=0, nr_test_el=12000, nr_gibbs=i)\n",
        "  perf_list.append(rbm_mnist.test_h_Linear_classifier())\n",
        "  rbm_mnist.reset_h_tran_test_set(test=True)\n",
        "\n",
        "\n",
        "end = time.time()\n",
        "\n",
        "print(end - start)"
      ],
      "metadata": {
        "colab": {
          "base_uri": "https://localhost:8080/"
        },
        "id": "U3TyS1gRmHMA",
        "outputId": "c16eebfd-2ffe-4ddc-ab27-33b42af9b9ef"
      },
      "execution_count": null,
      "outputs": [
        {
          "output_type": "stream",
          "name": "stdout",
          "text": [
            "0.0003437995910644531\n"
          ]
        }
      ]
    },
    {
      "cell_type": "code",
      "source": [
        "plt.plot(perf_list)"
      ],
      "metadata": {
        "colab": {
          "base_uri": "https://localhost:8080/",
          "height": 284
        },
        "id": "auLC5--RrH2Q",
        "outputId": "ab7b71a4-cb49-4474-9e7c-4c7b407714fc"
      },
      "execution_count": null,
      "outputs": [
        {
          "output_type": "execute_result",
          "data": {
            "text/plain": [
              "[<matplotlib.lines.Line2D at 0x7f693cabaf10>]"
            ]
          },
          "metadata": {},
          "execution_count": 11
        },
        {
          "output_type": "display_data",
          "data": {
            "text/plain": [
              "<Figure size 432x288 with 1 Axes>"
            ],
            "image/png": "[encoded data removed]"
          },
          "metadata": {
            "needs_background": "light"
          }
        }
      ]
    },
    {
      "cell_type": "code",
      "source": [
        "#rbm_mnist.reset_h_tran_test_set(test=True)\n",
        "\n",
        "rbm_mnist.create_h_tran_test_set(mnist_data.train_data, mnist_data.train_labels , nr_train_el=0, nr_test_el=12000, nr_gibbs=1)\n",
        "\n",
        "rbm_mnist.h_test_dataset.shape"
      ],
      "metadata": {
        "colab": {
          "base_uri": "https://localhost:8080/"
        },
        "id": "eV5REz_V8vdZ",
        "outputId": "498309eb-f90c-49a7-bfb1-5bcbd8b5ba5b"
      },
      "execution_count": 9,
      "outputs": [
        {
          "output_type": "stream",
          "name": "stderr",
          "text": [
            "/usr/local/lib/python3.7/dist-packages/torchvision/datasets/mnist.py:75: UserWarning: train_data has been renamed data\n",
            "  warnings.warn(\"train_data has been renamed data\")\n",
            "/usr/local/lib/python3.7/dist-packages/torchvision/datasets/mnist.py:65: UserWarning: train_labels has been renamed targets\n",
            "  warnings.warn(\"train_labels has been renamed targets\")\n"
          ]
        },
        {
          "output_type": "execute_result",
          "data": {
            "text/plain": [
              "torch.Size([12000, 529])"
            ]
          },
          "metadata": {},
          "execution_count": 9
        }
      ]
    },
    {
      "cell_type": "code",
      "source": [
        "h = rbm_mnist.h_from_label(1,80)\n",
        "\n",
        "v, sample_v = rbm_mnist.to_visible(h)\n",
        "\n",
        "reconstructed_img = sample_v.view((28,28)).cpu()\n",
        "\n",
        "plt.imshow(reconstructed_img , cmap = 'gray')"
      ],
      "metadata": {
        "colab": {
          "base_uri": "https://localhost:8080/",
          "height": 282
        },
        "id": "CjNHMacOnlVw",
        "outputId": "2d8d46f2-2e08-44ea-b372-5c748b738b21"
      },
      "execution_count": 40,
      "outputs": [
        {
          "output_type": "execute_result",
          "data": {
            "text/plain": [
              "<matplotlib.image.AxesImage at 0x7f1640d21b50>"
            ]
          },
          "metadata": {},
          "execution_count": 40
        },
        {
          "output_type": "display_data",
          "data": {
            "text/plain": [
              "<Figure size 432x288 with 1 Axes>"
            ],
            "image/png": "[encoded data removed]"
          },
          "metadata": {
            "needs_background": "light"
          }
        }
      ]
    },
    {
      "cell_type": "code",
      "source": [
        "File_name= 'RBM_mnist_h'+str(rbm_mnist.hidden_units)+'_TrainEpochs'+str(nr_e)+'.pth'\n",
        "path = F\"/content/gdrive/My Drive/{File_name}\"\n",
        "torch.save(rbm_mnist.state_dict(), path)"
      ],
      "metadata": {
        "id": "mogIQkvKqtAo"
      },
      "execution_count": null,
      "outputs": []
    },
    {
      "cell_type": "code",
      "source": [
        "model_save_name = 'classifier.pt'\n",
        "path = F\"/content/gdrive/My Drive/{model_save_name}\" \n",
        "torch.save(model.state_dict(), path)"
      ],
      "metadata": {
        "id": "RyWL609hrDEz"
      },
      "execution_count": null,
      "outputs": []
    }
  ]
}